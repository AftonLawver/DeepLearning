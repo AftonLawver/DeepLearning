{
 "cells": [
  {
   "cell_type": "code",
   "execution_count": 1,
   "id": "periodic-witness",
   "metadata": {
    "pycharm": {
     "name": "#%%\n"
    }
   },
   "outputs": [],
   "source": [
    "import numpy as np\n",
    "import matplotlib.pyplot as plt\n",
    "\n",
    "import torch\n",
    "import torch.nn as nn\n",
    "\n",
    "import torchvision\n",
    "import torchvision.transforms as transforms\n",
    "from torch.utils.data import Dataset, DataLoader\n",
    "from pathlib import Path\n",
    "import yaml  # conda install pyyaml\n",
    "from helper_train import train_model\n",
    "from helper_plotting import plot_training_loss, plot_accuracy, show_examples\n",
    "from helper_dataset import get_dataloaders_FashionMnist"
   ]
  },
  {
   "cell_type": "code",
   "execution_count": 2,
   "id": "sexual-gambling",
   "metadata": {
    "pycharm": {
     "name": "#%%\n"
    }
   },
   "outputs": [
    {
     "name": "stdout",
     "output_type": "stream",
     "text": [
      "True\n"
     ]
    }
   ],
   "source": [
    "# Uncomment the following line to use GPU if exist.\n",
    "DEVICE = torch.device(\"cuda:0\" if torch.cuda.is_available() else \"cpu\")\n",
    "# Uncomment the following line to use CPU\n",
    "# DEVICE = torch.device(\"cpu\")\n",
    "print(torch.cuda.is_available())"
   ]
  },
  {
   "cell_type": "code",
   "execution_count": 62,
   "id": "bacterial-mechanics",
   "metadata": {
    "pycharm": {
     "name": "#%%\n"
    }
   },
   "outputs": [
    {
     "name": "stdout",
     "output_type": "stream",
     "text": [
      "settings.yaml\n"
     ]
    }
   ],
   "source": [
    "setting_file=  Path('settings.yaml') #os.path.join(PATH,'settings.yaml' )\n",
    "print (setting_file)"
   ]
  },
  {
   "cell_type": "code",
   "execution_count": 63,
   "id": "august-folks",
   "metadata": {
    "pycharm": {
     "name": "#%%\n"
    }
   },
   "outputs": [],
   "source": [
    "with open(setting_file) as file:\n",
    "    SETTINGS = yaml.load(file, Loader=yaml.FullLoader)"
   ]
  },
  {
   "cell_type": "markdown",
   "source": [],
   "metadata": {
    "collapsed": false,
    "pycharm": {
     "name": "#%% md\n"
    }
   }
  },
  {
   "cell_type": "code",
   "execution_count": 64,
   "id": "silver-submission",
   "metadata": {
    "pycharm": {
     "name": "#%%\n"
    }
   },
   "outputs": [],
   "source": [
    "# Add the required tranformers, explained in the assignment text\n",
    "training_transforms = torchvision.transforms.Compose([\n",
    "    torchvision.transforms.ToTensor(),\n",
    "    torchvision.transforms.Resize(size=(32,32)),\n",
    "    torchvision.transforms.RandomCrop(size=(28,28)),\n",
    "    torchvision.transforms.RandomRotation(degrees=30),\n",
    "    torchvision.transforms.RandomHorizontalFlip(1.0),\n",
    "    torchvision.transforms.Normalize(0.5, 0.5)\n",
    "])\n",
    "\n",
    "testing_transforms = torchvision.transforms.Compose([\n",
    "    torchvision.transforms.ToTensor(),\n",
    "    torchvision.transforms.Resize([32,32]),\n",
    "    torchvision.transforms.CenterCrop([28,28]),\n",
    "    torchvision.transforms.Normalize(0.5, 0.5)\n",
    "])\n",
    "validating_transforms = torchvision.transforms.Compose([\n",
    "    torchvision.transforms.ToTensor(),\n",
    "    torchvision.transforms.Resize([32,32]),\n",
    "    torchvision.transforms.CenterCrop([28,28]),\n",
    "    torchvision.transforms.Normalize(0.5, 0.5)\n",
    "])"
   ]
  },
  {
   "cell_type": "code",
   "execution_count": 65,
   "id": "decent-vegetable",
   "metadata": {
    "pycharm": {
     "name": "#%%\n"
    }
   },
   "outputs": [],
   "source": [
    "# Generate loaders: replace the ???? with appropriate transformers\n",
    "train_loader, valid_loader, test_loader = get_dataloaders_FashionMnist( batch_size=SETTINGS['batch size'], \n",
    "                                            validation_fraction=0.1,\n",
    "                                            train_transforms=training_transforms,\n",
    "                                            test_transforms=testing_transforms,\n",
    "                                            valid_tranforms=validating_transforms\n",
    "                                            )"
   ]
  },
  {
   "cell_type": "code",
   "execution_count": 66,
   "id": "stuffed-dutch",
   "metadata": {
    "pycharm": {
     "name": "#%%\n"
    }
   },
   "outputs": [],
   "source": [
    "def output_label(label):\n",
    "    output_mapping = {\n",
    "                 0: \"T-shirt/Top\",\n",
    "                 1: \"Trouser\",\n",
    "                 2: \"Pullover\",\n",
    "                 3: \"Dress\",\n",
    "                 4: \"Coat\", \n",
    "                 5: \"Sandal\", \n",
    "                 6: \"Shirt\",\n",
    "                 7: \"Sneaker\",\n",
    "                 8: \"Bag\",\n",
    "                 9: \"Ankle Boot\"\n",
    "                 }\n",
    "    input = (label.item() if type(label) == torch.Tensor else label)\n",
    "    return output_mapping[input]"
   ]
  },
  {
   "cell_type": "code",
   "execution_count": 67,
   "id": "incredible-discipline",
   "metadata": {
    "pycharm": {
     "name": "#%%\n"
    }
   },
   "outputs": [
    {
     "data": {
      "text/plain": "torch.Size([128, 1, 28, 28])"
     },
     "execution_count": 67,
     "metadata": {},
     "output_type": "execute_result"
    }
   ],
   "source": [
    "b = next(iter(train_loader))\n",
    "b[0].size()"
   ]
  },
  {
   "cell_type": "code",
   "execution_count": 68,
   "id": "swiss-berlin",
   "metadata": {
    "pycharm": {
     "name": "#%%\n"
    }
   },
   "outputs": [
    {
     "data": {
      "text/plain": "421"
     },
     "execution_count": 68,
     "metadata": {},
     "output_type": "execute_result"
    }
   ],
   "source": [
    "len(train_loader)"
   ]
  },
  {
   "cell_type": "code",
   "execution_count": 69,
   "id": "massive-instrument",
   "metadata": {
    "pycharm": {
     "name": "#%%\n"
    }
   },
   "outputs": [
    {
     "name": "stdout",
     "output_type": "stream",
     "text": [
      "<class 'torch.Tensor'> <class 'torch.Tensor'>\n",
      "torch.Size([10, 1, 28, 28]) torch.Size([10])\n"
     ]
    }
   ],
   "source": [
    "# Replace ???? to define a SubTrain_set as a part of the training dataset using FashionMINST() with \n",
    "SubTrain = torchvision.datasets.FashionMNIST(root=\"data\",\n",
    "                                             train=True,\n",
    "                                             transform=torchvision.transforms.ToTensor())\n",
    "# Load the SubTrain_set dataset with batch size equals to 10 \n",
    "loader_example = torch.utils.data.DataLoader(SubTrain, batch_size=10)\n",
    "\n",
    "batch = next(iter(loader_example))\n",
    "images, labels = batch\n",
    "print(type(images), type(labels))\n",
    "print(images.shape, labels.shape)"
   ]
  },
  {
   "cell_type": "code",
   "execution_count": 70,
   "id": "genetic-ukraine",
   "metadata": {
    "pycharm": {
     "name": "#%%\n"
    }
   },
   "outputs": [
    {
     "name": "stdout",
     "output_type": "stream",
     "text": [
      "labels:  Ankle Boot, T-shirt/Top, T-shirt/Top, Dress, T-shirt/Top, Pullover, Sneaker, Pullover, Sandal, Sandal, "
     ]
    },
    {
     "data": {
      "text/plain": "<Figure size 1080x1440 with 1 Axes>",
      "image/png": "[encoded data removed]"
     },
     "metadata": {
      "needs_background": "light"
     },
     "output_type": "display_data"
    }
   ],
   "source": [
    "grid = torchvision.utils.make_grid(images, nrow=10)\n",
    "\n",
    "plt.figure(figsize=(15, 20))\n",
    "plt.imshow(np.transpose(grid, (1, 2, 0)))\n",
    "print(\"labels: \", end=\" \")\n",
    "for i, label in enumerate(labels):\n",
    "    print(output_label(label), end=\", \")"
   ]
  },
  {
   "cell_type": "code",
   "execution_count": 71,
   "id": "computational-danger",
   "metadata": {
    "pycharm": {
     "name": "#%%\n"
    }
   },
   "outputs": [],
   "source": [
    "# ## MODEL\n",
    "##########################\n",
    "\n",
    "class MLP(torch.nn.Module):\n",
    "\n",
    "    def __init__(self, num_features, num_hidden, num_hidden2, num_classes):\n",
    "        super().__init__()\n",
    "\n",
    "        self.num_classes = num_classes\n",
    "\n",
    "        self.classifier = torch.nn.Sequential(\n",
    "            torch.nn.Flatten(),\n",
    "            torch.nn.Linear(num_features, num_hidden, bias=False),  # Hidden Layer\n",
    "            torch.nn.ReLU(),               # use rectified linear activation function\n",
    "            torch.nn.Dropout(0.5),               #use dropout 0.5\n",
    "            # Add 2nd hidden layer with 50 layer and update the setting.yaml accordingly with dropout 0.3\n",
    "            torch.nn.Linear(num_hidden, num_hidden2, bias=False),\n",
    "            torch.nn.ReLU(),               # use rectified linear activation function\n",
    "            torch.nn.Dropout(0.3),       #use dropout 0.5\n",
    "            torch.nn.Linear(num_hidden2, num_classes)  # Output layer\n",
    "        )\n",
    "\n",
    "    def forward(self, x):\n",
    "        return self.classifier(x)\n"
   ]
  },
  {
   "cell_type": "code",
   "execution_count": 72,
   "outputs": [
    {
     "name": "stdout",
     "output_type": "stream",
     "text": [
      "0.001\n"
     ]
    }
   ],
   "source": [
    "print(SETTINGS['learning rate'])"
   ],
   "metadata": {
    "collapsed": false,
    "pycharm": {
     "name": "#%%\n"
    }
   }
  },
  {
   "cell_type": "code",
   "execution_count": 73,
   "id": "incoming-compatibility",
   "metadata": {
    "pycharm": {
     "name": "#%%\n"
    }
   },
   "outputs": [
    {
     "data": {
      "text/plain": "MLP(\n  (classifier): Sequential(\n    (0): Flatten(start_dim=1, end_dim=-1)\n    (1): Linear(in_features=784, out_features=100, bias=False)\n    (2): ReLU()\n    (3): Dropout(p=0.5, inplace=False)\n    (4): Linear(in_features=100, out_features=50, bias=False)\n    (5): ReLU()\n    (6): Dropout(p=0.3, inplace=False)\n    (7): Linear(in_features=50, out_features=10, bias=True)\n  )\n)"
     },
     "execution_count": 73,
     "metadata": {},
     "output_type": "execute_result"
    }
   ],
   "source": [
    "model = MLP(num_features=SETTINGS['input size'],\n",
    "            num_hidden=SETTINGS['hidden layer size'],\n",
    "            num_hidden2=SETTINGS['hidden layer size2'],\n",
    "            num_classes=SETTINGS['num class labels'])\n",
    "model.to(DEVICE)"
   ]
  },
  {
   "cell_type": "code",
   "execution_count": 74,
   "id": "comparative-validity",
   "metadata": {
    "pycharm": {
     "name": "#%%\n"
    }
   },
   "outputs": [],
   "source": [
    "optimizer = torch.optim.SGD(model.parameters(), lr=SETTINGS['learning rate']) # get the learning rate from the settings.yaml"
   ]
  },
  {
   "cell_type": "code",
   "execution_count": 75,
   "id": "infrared-senator",
   "metadata": {
    "pycharm": {
     "name": "#%%\n"
    }
   },
   "outputs": [],
   "source": [
    "scheduler = torch.optim.lr_scheduler.ReduceLROnPlateau(optimizer,\n",
    "                                                       factor=0.1,\n",
    "                                                       mode='max',\n",
    "                                                       verbose=True)\n"
   ]
  },
  {
   "cell_type": "code",
   "execution_count": 76,
   "id": "solid-request",
   "metadata": {
    "pycharm": {
     "name": "#%%\n"
    }
   },
   "outputs": [
    {
     "name": "stdout",
     "output_type": "stream",
     "text": [
      "Epoch: 001/050 | Batch 0000/0421 | Loss: 2.3068\n",
      "Epoch: 001/050 | Train: 24.25% | Validation: 21.53%\n",
      "Time elapsed: 1.13 min\n",
      "Epoch: 002/050 | Batch 0000/0421 | Loss: 2.2495\n",
      "Epoch: 002/050 | Train: 31.06% | Validation: 26.58%\n",
      "Time elapsed: 2.26 min\n",
      "Epoch: 003/050 | Batch 0000/0421 | Loss: 2.1744\n",
      "Epoch: 003/050 | Train: 38.37% | Validation: 35.07%\n",
      "Time elapsed: 3.38 min\n",
      "Epoch: 004/050 | Batch 0000/0421 | Loss: 2.1052\n",
      "Epoch: 004/050 | Train: 40.50% | Validation: 34.57%\n",
      "Time elapsed: 4.51 min\n",
      "Epoch: 005/050 | Batch 0000/0421 | Loss: 2.0091\n",
      "Epoch: 005/050 | Train: 41.73% | Validation: 34.75%\n",
      "Time elapsed: 5.62 min\n",
      "Epoch: 006/050 | Batch 0000/0421 | Loss: 1.9530\n",
      "Epoch: 006/050 | Train: 44.04% | Validation: 37.07%\n",
      "Time elapsed: 6.73 min\n",
      "Epoch: 007/050 | Batch 0000/0421 | Loss: 1.8070\n",
      "Epoch: 007/050 | Train: 47.26% | Validation: 41.07%\n",
      "Time elapsed: 7.84 min\n",
      "Epoch: 008/050 | Batch 0000/0421 | Loss: 1.7206\n",
      "Epoch: 008/050 | Train: 49.91% | Validation: 43.85%\n",
      "Time elapsed: 8.92 min\n",
      "Epoch: 009/050 | Batch 0000/0421 | Loss: 1.7106\n",
      "Epoch: 009/050 | Train: 51.39% | Validation: 45.62%\n",
      "Time elapsed: 10.00 min\n",
      "Epoch: 010/050 | Batch 0000/0421 | Loss: 1.4973\n",
      "Epoch: 010/050 | Train: 53.09% | Validation: 46.85%\n",
      "Time elapsed: 11.09 min\n",
      "Epoch: 011/050 | Batch 0000/0421 | Loss: 1.4731\n",
      "Epoch: 011/050 | Train: 53.92% | Validation: 47.38%\n",
      "Time elapsed: 12.17 min\n",
      "Epoch: 012/050 | Batch 0000/0421 | Loss: 1.4481\n",
      "Epoch: 012/050 | Train: 54.57% | Validation: 47.68%\n",
      "Time elapsed: 13.29 min\n",
      "Epoch: 013/050 | Batch 0000/0421 | Loss: 1.5217\n",
      "Epoch: 013/050 | Train: 55.33% | Validation: 48.25%\n",
      "Time elapsed: 14.37 min\n",
      "Epoch: 014/050 | Batch 0000/0421 | Loss: 1.5049\n",
      "Epoch: 014/050 | Train: 55.94% | Validation: 48.62%\n",
      "Time elapsed: 15.45 min\n",
      "Epoch: 015/050 | Batch 0000/0421 | Loss: 1.3612\n",
      "Epoch: 015/050 | Train: 56.74% | Validation: 49.52%\n",
      "Time elapsed: 16.54 min\n",
      "Epoch: 016/050 | Batch 0000/0421 | Loss: 1.4062\n",
      "Epoch: 016/050 | Train: 57.12% | Validation: 49.62%\n",
      "Time elapsed: 17.62 min\n",
      "Epoch: 017/050 | Batch 0000/0421 | Loss: 1.4064\n",
      "Epoch: 017/050 | Train: 57.43% | Validation: 50.03%\n",
      "Time elapsed: 18.71 min\n",
      "Epoch: 018/050 | Batch 0000/0421 | Loss: 1.4176\n",
      "Epoch: 018/050 | Train: 58.86% | Validation: 51.40%\n",
      "Time elapsed: 19.79 min\n",
      "Epoch: 019/050 | Batch 0000/0421 | Loss: 1.3100\n",
      "Epoch: 019/050 | Train: 58.95% | Validation: 51.20%\n",
      "Time elapsed: 20.88 min\n",
      "Epoch: 020/050 | Batch 0000/0421 | Loss: 1.2615\n",
      "Epoch: 020/050 | Train: 59.88% | Validation: 51.92%\n",
      "Time elapsed: 21.96 min\n",
      "Epoch: 021/050 | Batch 0000/0421 | Loss: 1.2221\n",
      "Epoch: 021/050 | Train: 60.23% | Validation: 52.27%\n",
      "Time elapsed: 23.04 min\n",
      "Epoch: 022/050 | Batch 0000/0421 | Loss: 1.2913\n",
      "Epoch: 022/050 | Train: 60.58% | Validation: 52.70%\n",
      "Time elapsed: 24.13 min\n",
      "Epoch: 023/050 | Batch 0000/0421 | Loss: 1.4005\n",
      "Epoch: 023/050 | Train: 61.11% | Validation: 53.00%\n",
      "Time elapsed: 25.21 min\n",
      "Epoch: 024/050 | Batch 0000/0421 | Loss: 1.2691\n",
      "Epoch: 024/050 | Train: 61.45% | Validation: 53.13%\n",
      "Time elapsed: 26.29 min\n",
      "Epoch: 025/050 | Batch 0000/0421 | Loss: 1.2651\n",
      "Epoch: 025/050 | Train: 62.24% | Validation: 54.13%\n",
      "Time elapsed: 27.38 min\n",
      "Epoch: 026/050 | Batch 0000/0421 | Loss: 1.2105\n",
      "Epoch: 026/050 | Train: 62.54% | Validation: 54.85%\n",
      "Time elapsed: 28.46 min\n",
      "Epoch: 027/050 | Batch 0000/0421 | Loss: 1.1789\n",
      "Epoch: 027/050 | Train: 62.63% | Validation: 54.57%\n",
      "Time elapsed: 29.53 min\n",
      "Epoch: 028/050 | Batch 0000/0421 | Loss: 1.2597\n",
      "Epoch: 028/050 | Train: 62.86% | Validation: 54.82%\n",
      "Time elapsed: 30.60 min\n",
      "Epoch: 029/050 | Batch 0000/0421 | Loss: 1.3338\n",
      "Epoch: 029/050 | Train: 63.21% | Validation: 54.80%\n",
      "Time elapsed: 31.69 min\n",
      "Epoch: 030/050 | Batch 0000/0421 | Loss: 1.1809\n",
      "Epoch: 030/050 | Train: 63.64% | Validation: 55.58%\n",
      "Time elapsed: 32.77 min\n",
      "Epoch: 031/050 | Batch 0000/0421 | Loss: 1.3273\n",
      "Epoch: 031/050 | Train: 63.73% | Validation: 55.43%\n",
      "Time elapsed: 33.84 min\n",
      "Epoch: 032/050 | Batch 0000/0421 | Loss: 1.2062\n",
      "Epoch: 032/050 | Train: 64.12% | Validation: 55.90%\n",
      "Time elapsed: 34.92 min\n",
      "Epoch: 033/050 | Batch 0000/0421 | Loss: 1.1220\n",
      "Epoch: 033/050 | Train: 64.31% | Validation: 55.98%\n",
      "Time elapsed: 35.99 min\n",
      "Epoch: 034/050 | Batch 0000/0421 | Loss: 1.1865\n",
      "Epoch: 034/050 | Train: 64.75% | Validation: 56.58%\n",
      "Time elapsed: 37.07 min\n",
      "Epoch: 035/050 | Batch 0000/0421 | Loss: 1.1687\n",
      "Epoch: 035/050 | Train: 64.56% | Validation: 56.32%\n",
      "Time elapsed: 38.14 min\n",
      "Epoch: 036/050 | Batch 0000/0421 | Loss: 1.0685\n",
      "Epoch: 036/050 | Train: 64.77% | Validation: 56.53%\n",
      "Time elapsed: 39.22 min\n",
      "Epoch: 037/050 | Batch 0000/0421 | Loss: 1.2461\n",
      "Epoch: 037/050 | Train: 65.12% | Validation: 56.62%\n",
      "Time elapsed: 40.29 min\n",
      "Epoch: 038/050 | Batch 0000/0421 | Loss: 1.0614\n",
      "Epoch: 038/050 | Train: 65.35% | Validation: 57.08%\n",
      "Time elapsed: 41.37 min\n",
      "Epoch: 039/050 | Batch 0000/0421 | Loss: 1.1203\n",
      "Epoch: 039/050 | Train: 65.30% | Validation: 56.75%\n",
      "Time elapsed: 42.45 min\n",
      "Epoch: 040/050 | Batch 0000/0421 | Loss: 1.3405\n",
      "Epoch: 040/050 | Train: 65.69% | Validation: 56.95%\n",
      "Time elapsed: 43.52 min\n",
      "Epoch: 041/050 | Batch 0000/0421 | Loss: 1.1995\n",
      "Epoch: 041/050 | Train: 65.71% | Validation: 57.20%\n",
      "Time elapsed: 44.60 min\n",
      "Epoch: 042/050 | Batch 0000/0421 | Loss: 1.0465\n",
      "Epoch: 042/050 | Train: 65.75% | Validation: 57.18%\n",
      "Time elapsed: 45.67 min\n",
      "Epoch: 043/050 | Batch 0000/0421 | Loss: 1.1122\n",
      "Epoch: 043/050 | Train: 65.86% | Validation: 57.27%\n",
      "Time elapsed: 46.75 min\n",
      "Epoch: 044/050 | Batch 0000/0421 | Loss: 1.2363\n",
      "Epoch: 044/050 | Train: 65.96% | Validation: 57.55%\n",
      "Time elapsed: 47.83 min\n",
      "Epoch: 045/050 | Batch 0000/0421 | Loss: 1.0242\n",
      "Epoch: 045/050 | Train: 66.15% | Validation: 57.43%\n",
      "Time elapsed: 48.90 min\n",
      "Epoch: 046/050 | Batch 0000/0421 | Loss: 1.1570\n",
      "Epoch: 046/050 | Train: 66.42% | Validation: 57.38%\n",
      "Time elapsed: 49.98 min\n",
      "Epoch: 047/050 | Batch 0000/0421 | Loss: 1.0481\n",
      "Epoch: 047/050 | Train: 66.40% | Validation: 57.68%\n",
      "Time elapsed: 51.05 min\n",
      "Epoch: 048/050 | Batch 0000/0421 | Loss: 1.2537\n",
      "Epoch: 048/050 | Train: 66.60% | Validation: 57.63%\n",
      "Time elapsed: 52.12 min\n",
      "Epoch: 049/050 | Batch 0000/0421 | Loss: 0.9716\n",
      "Epoch: 049/050 | Train: 66.51% | Validation: 57.40%\n",
      "Time elapsed: 53.19 min\n",
      "Epoch: 050/050 | Batch 0000/0421 | Loss: 1.0951\n",
      "Epoch: 050/050 | Train: 66.48% | Validation: 57.60%\n",
      "Time elapsed: 54.26 min\n",
      "Total Training Time: 54.26 min\n",
      "Test accuracy 57.49%\n"
     ]
    }
   ],
   "source": [
    "# Replace ???? with suitable parameter defined in settings.yaml and suitable parameters defined in the above cells\n",
    "minibatch_loss_list, train_acc_list, valid_acc_list = train_model(\n",
    "    model=model,\n",
    "    num_epochs=SETTINGS['num epochs'],\n",
    "    train_loader=train_loader,\n",
    "    valid_loader=valid_loader,\n",
    "    test_loader=test_loader,\n",
    "    optimizer=optimizer,\n",
    "    device=DEVICE,\n",
    "    logging_interval=800,\n",
    "    scheduler=scheduler,\n",
    "    scheduler_on='valid_acc')\n",
    "\n"
   ]
  },
  {
   "cell_type": "code",
   "execution_count": 77,
   "id": "persistent-virtue",
   "metadata": {
    "pycharm": {
     "name": "#%%\n"
    }
   },
   "outputs": [
    {
     "data": {
      "text/plain": "<Figure size 432x288 with 2 Axes>",
      "image/png": "[encoded data removed]"
     },
     "metadata": {
      "needs_background": "light"
     },
     "output_type": "display_data"
    }
   ],
   "source": [
    "plot_training_loss(minibatch_loss_list=minibatch_loss_list,\n",
    "                   num_epochs=SETTINGS['num epochs'],\n",
    "                   iter_per_epoch=len(train_loader),\n",
    "                   results_dir=None,\n",
    "                   averaging_iterations=20)\n",
    "plt.show()"
   ]
  },
  {
   "cell_type": "code",
   "execution_count": 80,
   "id": "parental-vintage",
   "metadata": {
    "pycharm": {
     "name": "#%%\n"
    }
   },
   "outputs": [
    {
     "data": {
      "text/plain": "<Figure size 432x288 with 1 Axes>",
      "image/png": "[encoded data removed]"
     },
     "metadata": {
      "needs_background": "light"
     },
     "output_type": "display_data"
    }
   ],
   "source": [
    "plot_accuracy(train_acc_list=train_acc_list,\n",
    "              valid_acc_list=valid_acc_list,\n",
    "              results_dir=None)\n",
    "plt.ylim([10, 100])\n",
    "plt.show()"
   ]
  },
  {
   "cell_type": "markdown",
   "source": [],
   "metadata": {
    "collapsed": false,
    "pycharm": {
     "name": "#%% md\n"
    }
   }
  }
 ],
 "metadata": {
  "kernelspec": {
   "display_name": "Python 3",
   "language": "python",
   "name": "python3"
  },
  "language_info": {
   "codemirror_mode": {
    "name": "ipython",
    "version": 3
   },
   "file_extension": ".py",
   "mimetype": "text/x-python",
   "name": "python",
   "nbconvert_exporter": "python",
   "pygments_lexer": "ipython3",
   "version": "3.8.5"
  }
 },
 "nbformat": 4,
 "nbformat_minor": 5
}