{
 "cells": [
  {
   "cell_type": "code",
   "execution_count": 1,
   "id": "periodic-witness",
   "metadata": {
    "pycharm": {
     "name": "#%%\n"
    }
   },
   "outputs": [],
   "source": [
    "import numpy as np\n",
    "import matplotlib.pyplot as plt\n",
    "\n",
    "import torch\n",
    "import torch.nn as nn\n",
    "\n",
    "import torchvision\n",
    "import torchvision.transforms as transforms\n",
    "from torch.utils.data import Dataset, DataLoader\n",
    "from pathlib import Path\n",
    "import yaml  # conda install pyyaml\n",
    "from helper_train import train_model\n",
    "from helper_plotting import plot_training_loss, plot_accuracy, show_examples\n",
    "from helper_dataset import get_dataloaders_FashionMnist\n"
   ]
  },
  {
   "cell_type": "code",
   "execution_count": 2,
   "id": "sexual-gambling",
   "metadata": {
    "pycharm": {
     "name": "#%%\n"
    }
   },
   "outputs": [
    {
     "name": "stdout",
     "output_type": "stream",
     "text": [
      "True\n"
     ]
    }
   ],
   "source": [
    "# Uncomment the following line to use GPU if exist.\n",
    "DEVICE = torch.device(\"cuda:0\" if torch.cuda.is_available() else \"cpu\")\n",
    "# Uncomment the following line to use CPU\n",
    "# DEVICE = torch.device(\"cpu\")\n",
    "print(torch.cuda.is_available())"
   ]
  },
  {
   "cell_type": "code",
   "execution_count": 3,
   "id": "bacterial-mechanics",
   "metadata": {
    "pycharm": {
     "name": "#%%\n"
    }
   },
   "outputs": [
    {
     "name": "stdout",
     "output_type": "stream",
     "text": [
      "settings.yaml\n"
     ]
    }
   ],
   "source": [
    "setting_file=  Path('settings.yaml') #os.path.join(PATH,'settings.yaml' )\n",
    "print (setting_file)"
   ]
  },
  {
   "cell_type": "code",
   "execution_count": 5,
   "id": "august-folks",
   "metadata": {
    "pycharm": {
     "name": "#%%\n"
    }
   },
   "outputs": [],
   "source": [
    "with open(setting_file) as file:\n",
    "    SETTINGS = yaml.load(file, Loader=yaml.FullLoader)"
   ]
  },
  {
   "cell_type": "code",
   "execution_count": 6,
   "id": "silver-submission",
   "metadata": {
    "pycharm": {
     "name": "#%%\n"
    }
   },
   "outputs": [],
   "source": [
    "# Add the required tranformers, explained in the assignment text\n",
    "training_transforms = torchvision.transforms.Compose([\n",
    "    torchvision.transforms.ToTensor(),\n",
    "    ????,\n",
    "    ????,\n",
    "    ????,\n",
    "    ????,\n",
    "    ????,\n",
    "])\n",
    "\n",
    "testing_transforms = torchvision.transforms.Compose([\n",
    "    torchvision.transforms.ToTensor(),\n",
    "    ????,\n",
    "    ????,\n",
    "    ????,\n",
    "])\n",
    "validting_transforms = torchvision.transforms.Compose([\n",
    "    torchvision.transforms.ToTensor(),\n",
    "    ????,\n",
    "    ????,\n",
    "    ????,\n",
    "])"
   ]
  },
  {
   "cell_type": "code",
   "execution_count": 7,
   "id": "decent-vegetable",
   "metadata": {
    "pycharm": {
     "name": "#%%\n"
    }
   },
   "outputs": [],
   "source": [
    "# Generate loaders: replace the ???? with approriate transformers \n",
    "train_loader, valid_loader, test_loader = get_dataloaders_FashionMnist( batch_size=SETTINGS['batch size'], \n",
    "                                            validation_fraction=0.1,\n",
    "                                            train_transforms=????,\n",
    "                                            test_transforms=????,\n",
    "                                            valid_tranforms=???? \n",
    "                                            )"
   ]
  },
  {
   "cell_type": "code",
   "execution_count": 9,
   "id": "stuffed-dutch",
   "metadata": {
    "pycharm": {
     "name": "#%%\n"
    }
   },
   "outputs": [],
   "source": [
    "def output_label(label):\n",
    "    output_mapping = {\n",
    "                 0: \"T-shirt/Top\",\n",
    "                 1: \"Trouser\",\n",
    "                 2: \"Pullover\",\n",
    "                 3: \"Dress\",\n",
    "                 4: \"Coat\", \n",
    "                 5: \"Sandal\", \n",
    "                 6: \"Shirt\",\n",
    "                 7: \"Sneaker\",\n",
    "                 8: \"Bag\",\n",
    "                 9: \"Ankle Boot\"\n",
    "                 }\n",
    "    input = (label.item() if type(label) == torch.Tensor else label)\n",
    "    return output_mapping[input]"
   ]
  },
  {
   "cell_type": "code",
   "execution_count": 10,
   "id": "incredible-discipline",
   "metadata": {
    "pycharm": {
     "name": "#%%\n"
    }
   },
   "outputs": [
    {
     "data": {
      "text/plain": [
       "torch.Size([128, 1, 28, 28])"
      ]
     },
     "execution_count": 10,
     "metadata": {},
     "output_type": "execute_result"
    }
   ],
   "source": [
    "b = next(iter(train_loader))\n",
    "b[0].size()"
   ]
  },
  {
   "cell_type": "code",
   "execution_count": 11,
   "id": "swiss-berlin",
   "metadata": {
    "pycharm": {
     "name": "#%%\n"
    }
   },
   "outputs": [
    {
     "data": {
      "text/plain": [
       "421"
      ]
     },
     "execution_count": 11,
     "metadata": {},
     "output_type": "execute_result"
    }
   ],
   "source": [
    "len(train_loader)"
   ]
  },
  {
   "cell_type": "code",
   "execution_count": 12,
   "id": "massive-instrument",
   "metadata": {
    "pycharm": {
     "name": "#%%\n"
    }
   },
   "outputs": [
    {
     "name": "stdout",
     "output_type": "stream",
     "text": [
      "<class 'torch.Tensor'> <class 'torch.Tensor'>\n",
      "torch.Size([10, 1, 28, 28]) torch.Size([10])\n"
     ]
    }
   ],
   "source": [
    "# Replace ???? to define a SubTrain_set as a part of the training dataset using FashionMINST() with \n",
    "SubTrain = torchvision.datasets.FashionMNIST(????)\n",
    "# Load the SubTrain_set dataset with batch size equals to 10 \n",
    "loader_example = torch.utils.data.DataLoader(SubTrain, batch_size=????)\n",
    "\n",
    "batch = next(iter(loader_example))\n",
    "images, labels = batch\n",
    "print(type(images), type(labels))\n",
    "print(images.shape, labels.shape)"
   ]
  },
  {
   "cell_type": "code",
   "execution_count": 13,
   "id": "genetic-ukraine",
   "metadata": {
    "pycharm": {
     "name": "#%%\n"
    }
   },
   "outputs": [
    {
     "name": "stdout",
     "output_type": "stream",
     "text": [
      "labels:  Ankle Boot, T-shirt/Top, T-shirt/Top, Dress, T-shirt/Top, Pullover, Sneaker, Pullover, Sandal, Sandal, "
     ]
    },
    {
     "data": {
      "image/png": "[encoded data removed]",
      "text/plain": [
       "<Figure size 1080x1440 with 1 Axes>"
      ]
     },
     "metadata": {
      "needs_background": "light"
     },
     "output_type": "display_data"
    }
   ],
   "source": [
    "grid = torchvision.utils.make_grid(images, nrow=10)\n",
    "\n",
    "plt.figure(figsize=(15, 20))\n",
    "plt.imshow(np.transpose(grid, (1, 2, 0)))\n",
    "print(\"labels: \", end=\" \")\n",
    "for i, label in enumerate(labels):\n",
    "    print(output_label(label), end=\", \")"
   ]
  },
  {
   "cell_type": "code",
   "execution_count": 14,
   "id": "computational-danger",
   "metadata": {
    "pycharm": {
     "name": "#%%\n"
    }
   },
   "outputs": [],
   "source": [
    "# ## MODEL\n",
    "##########################\n",
    "\n",
    "class MLP(torch.nn.Module):\n",
    "\n",
    "    def __init__(self, num_features, num_hidden, num_hidden2, num_classes):\n",
    "        super().__init__()\n",
    "\n",
    "        self.num_classes = num_classes\n",
    "\n",
    "        self.classifier = torch.nn.Sequential(\n",
    "            torch.nn.Flatten(),\n",
    "            torch.nn.Linear(num_features, num_hidden,bias=False),  # Hidden Layer\n",
    "            ????,               # use trectified linear activation function \n",
    "            ????,               #use dropout 0.5\n",
    "            # Add 2nd hidden layer with 50 layer and update the setting.yaml accordingly with dropout 0.3\n",
    "            torch.nn.Linear(num_hidden, num_hidden2, bias=False),\n",
    "            ????,              # rectified linear activation function \n",
    "            ????,        #use dropout 0.5\n",
    "            torch.nn.Linear(num_hidden2, num_classes)  # Output layer\n",
    "        )\n",
    "\n",
    "    def forward(self, x):\n",
    "        return self.classifier(x)\n"
   ]
  },
  {
   "cell_type": "code",
   "execution_count": 15,
   "id": "incoming-compatibility",
   "metadata": {
    "pycharm": {
     "name": "#%%\n"
    }
   },
   "outputs": [
    {
     "data": {
      "text/plain": [
       "MLP(\n",
       "  (classifier): Sequential(\n",
       "    (0): Flatten(start_dim=1, end_dim=-1)\n",
       "    (1): Linear(in_features=784, out_features=100, bias=False)\n",
       "    (2): ReLU()\n",
       "    (3): Dropout(p=0.5, inplace=False)\n",
       "    (4): Linear(in_features=100, out_features=50, bias=False)\n",
       "    (5): ReLU()\n",
       "    (6): Dropout(p=0.3, inplace=False)\n",
       "    (7): Linear(in_features=50, out_features=10, bias=True)\n",
       "  )\n",
       ")"
      ]
     },
     "execution_count": 15,
     "metadata": {},
     "output_type": "execute_result"
    }
   ],
   "source": [
    "model = MLP(num_features=SETTINGS['input size'],\n",
    "            num_hidden=SETTINGS['hidden layer size'],\n",
    "            num_hidden2=SETTINGS['hidden layer size2'],\n",
    "            num_classes=SETTINGS['num class labels'])\n",
    "model.to(DEVICE)"
   ]
  },
  {
   "cell_type": "code",
   "execution_count": 16,
   "id": "comparative-validity",
   "metadata": {
    "pycharm": {
     "name": "#%%\n"
    }
   },
   "outputs": [],
   "source": [
    "optimizer = torch.optim.SGD(model.parameters(), lr=???) # get the learning rate from the settings.yaml"
   ]
  },
  {
   "cell_type": "code",
   "execution_count": 17,
   "id": "infrared-senator",
   "metadata": {
    "pycharm": {
     "name": "#%%\n"
    }
   },
   "outputs": [],
   "source": [
    "scheduler = torch.optim.lr_scheduler.ReduceLROnPlateau(optimizer,\n",
    "                                                       factor=0.1,\n",
    "                                                       mode='max',\n",
    "                                                       verbose=True)"
   ]
  },
  {
   "cell_type": "code",
   "execution_count": 18,
   "id": "solid-request",
   "metadata": {
    "pycharm": {
     "name": "#%%\n"
    }
   },
   "outputs": [
    {
     "name": "stdout",
     "output_type": "stream",
     "text": [
      "Epoch: 001/030 | Batch 0000/0421 | Loss: 2.2757\n",
      "Epoch: 001/030 | Train: 49.49% | Validation: 53.97%\n",
      "Time elapsed: 0.53 min\n",
      "Epoch: 002/030 | Batch 0000/0421 | Loss: 1.6750\n",
      "Epoch: 002/030 | Train: 56.53% | Validation: 61.37%\n",
      "Time elapsed: 1.06 min\n",
      "Epoch: 003/030 | Batch 0000/0421 | Loss: 1.3750\n",
      "Epoch: 003/030 | Train: 60.96% | Validation: 67.23%\n",
      "Time elapsed: 1.58 min\n",
      "Epoch: 004/030 | Batch 0000/0421 | Loss: 1.3429\n",
      "Epoch: 004/030 | Train: 63.40% | Validation: 68.17%\n",
      "Time elapsed: 2.11 min\n",
      "Epoch: 005/030 | Batch 0000/0421 | Loss: 1.2421\n",
      "Epoch: 005/030 | Train: 64.61% | Validation: 69.43%\n",
      "Time elapsed: 2.64 min\n",
      "Epoch: 006/030 | Batch 0000/0421 | Loss: 1.1376\n",
      "Epoch: 006/030 | Train: 65.32% | Validation: 69.32%\n",
      "Time elapsed: 3.16 min\n",
      "Epoch: 007/030 | Batch 0000/0421 | Loss: 1.1978\n",
      "Epoch: 007/030 | Train: 66.53% | Validation: 70.42%\n",
      "Time elapsed: 3.69 min\n",
      "Epoch: 008/030 | Batch 0000/0421 | Loss: 1.1013\n",
      "Epoch: 008/030 | Train: 66.92% | Validation: 71.00%\n",
      "Time elapsed: 4.26 min\n",
      "Epoch: 009/030 | Batch 0000/0421 | Loss: 1.1591\n",
      "Epoch: 009/030 | Train: 67.67% | Validation: 71.17%\n",
      "Time elapsed: 4.79 min\n",
      "Epoch: 010/030 | Batch 0000/0421 | Loss: 0.8946\n",
      "Epoch: 010/030 | Train: 67.87% | Validation: 71.37%\n",
      "Time elapsed: 5.32 min\n",
      "Epoch: 011/030 | Batch 0000/0421 | Loss: 0.9963\n",
      "Epoch: 011/030 | Train: 68.50% | Validation: 71.87%\n",
      "Time elapsed: 5.85 min\n",
      "Epoch: 012/030 | Batch 0000/0421 | Loss: 1.1472\n",
      "Epoch: 012/030 | Train: 68.87% | Validation: 72.15%\n",
      "Time elapsed: 6.38 min\n",
      "Epoch: 013/030 | Batch 0000/0421 | Loss: 1.0111\n",
      "Epoch: 013/030 | Train: 69.26% | Validation: 72.28%\n",
      "Time elapsed: 6.92 min\n",
      "Epoch: 014/030 | Batch 0000/0421 | Loss: 0.8990\n",
      "Epoch: 014/030 | Train: 69.04% | Validation: 72.38%\n",
      "Time elapsed: 7.45 min\n",
      "Epoch: 015/030 | Batch 0000/0421 | Loss: 0.9184\n",
      "Epoch: 015/030 | Train: 69.35% | Validation: 72.45%\n",
      "Time elapsed: 7.97 min\n",
      "Epoch: 016/030 | Batch 0000/0421 | Loss: 1.0654\n",
      "Epoch: 016/030 | Train: 69.56% | Validation: 72.90%\n",
      "Time elapsed: 8.50 min\n",
      "Epoch: 017/030 | Batch 0000/0421 | Loss: 1.0682\n",
      "Epoch: 017/030 | Train: 69.97% | Validation: 73.10%\n",
      "Time elapsed: 9.03 min\n",
      "Epoch: 018/030 | Batch 0000/0421 | Loss: 0.9523\n",
      "Epoch: 018/030 | Train: 69.99% | Validation: 72.95%\n",
      "Time elapsed: 9.56 min\n",
      "Epoch: 019/030 | Batch 0000/0421 | Loss: 0.8443\n",
      "Epoch: 019/030 | Train: 69.92% | Validation: 72.88%\n",
      "Time elapsed: 10.09 min\n",
      "Epoch: 020/030 | Batch 0000/0421 | Loss: 0.9330\n",
      "Epoch: 020/030 | Train: 70.22% | Validation: 73.43%\n",
      "Time elapsed: 10.62 min\n",
      "Epoch: 021/030 | Batch 0000/0421 | Loss: 0.8675\n",
      "Epoch: 021/030 | Train: 70.43% | Validation: 73.42%\n",
      "Time elapsed: 11.14 min\n",
      "Epoch: 022/030 | Batch 0000/0421 | Loss: 0.8728\n",
      "Epoch: 022/030 | Train: 70.28% | Validation: 73.60%\n",
      "Time elapsed: 11.67 min\n",
      "Epoch: 023/030 | Batch 0000/0421 | Loss: 0.8422\n",
      "Epoch: 023/030 | Train: 70.96% | Validation: 73.90%\n",
      "Time elapsed: 12.20 min\n",
      "Epoch: 024/030 | Batch 0000/0421 | Loss: 0.8861\n",
      "Epoch: 024/030 | Train: 71.05% | Validation: 73.62%\n",
      "Time elapsed: 12.72 min\n",
      "Epoch: 025/030 | Batch 0000/0421 | Loss: 0.8070\n",
      "Epoch: 025/030 | Train: 71.00% | Validation: 74.27%\n",
      "Time elapsed: 13.25 min\n",
      "Epoch: 026/030 | Batch 0000/0421 | Loss: 0.8863\n",
      "Epoch: 026/030 | Train: 70.91% | Validation: 74.27%\n",
      "Time elapsed: 13.78 min\n",
      "Epoch: 027/030 | Batch 0000/0421 | Loss: 0.7475\n",
      "Epoch: 027/030 | Train: 71.06% | Validation: 74.05%\n",
      "Time elapsed: 14.30 min\n",
      "Epoch: 028/030 | Batch 0000/0421 | Loss: 0.9864\n",
      "Epoch: 028/030 | Train: 71.13% | Validation: 74.13%\n",
      "Time elapsed: 14.83 min\n",
      "Epoch: 029/030 | Batch 0000/0421 | Loss: 0.8894\n",
      "Epoch: 029/030 | Train: 71.35% | Validation: 74.17%\n",
      "Time elapsed: 15.36 min\n",
      "Epoch: 030/030 | Batch 0000/0421 | Loss: 0.9145\n",
      "Epoch: 030/030 | Train: 71.48% | Validation: 74.32%\n",
      "Time elapsed: 15.89 min\n",
      "Total Training Time: 15.89 min\n",
      "Test accuracy 72.64%\n"
     ]
    }
   ],
   "source": [
    "# Replace ???? with suitable parameter defined in seetings.yaml and suitable pramters defined in the above cells\n",
    "minibatch_loss_list, train_acc_list, valid_acc_list = train_model(\n",
    "    model=model,\n",
    "    num_epochs=????,\n",
    "    train_loader=????,\n",
    "    valid_loader=????,\n",
    "    test_loader=????,\n",
    "    optimizer=????,\n",
    "    device=DEVICE,\n",
    "    logging_interval=800,\n",
    "    scheduler=scheduler,\n",
    "    scheduler_on='valid_acc')"
   ]
  },
  {
   "cell_type": "code",
   "execution_count": 20,
   "id": "persistent-virtue",
   "metadata": {
    "pycharm": {
     "name": "#%%\n"
    }
   },
   "outputs": [
    {
     "data": {
      "image/png": "[encoded data removed]",
      "text/plain": [
       "<Figure size 432x288 with 2 Axes>"
      ]
     },
     "metadata": {
      "needs_background": "light"
     },
     "output_type": "display_data"
    }
   ],
   "source": [
    "plot_training_loss(minibatch_loss_list=minibatch_loss_list,\n",
    "                   num_epochs=SETTINGS['num epochs'],\n",
    "                   iter_per_epoch=len(train_loader),\n",
    "                   results_dir=None,\n",
    "                   averaging_iterations=20)\n",
    "plt.show()"
   ]
  },
  {
   "cell_type": "code",
   "execution_count": 23,
   "id": "parental-vintage",
   "metadata": {
    "pycharm": {
     "name": "#%%\n"
    }
   },
   "outputs": [
    {
     "data": {
      "image/png": "[encoded data removed]",
      "text/plain": [
       "<Figure size 432x288 with 1 Axes>"
      ]
     },
     "metadata": {
      "needs_background": "light"
     },
     "output_type": "display_data"
    }
   ],
   "source": [
    "plot_accuracy(train_acc_list=train_acc_list,\n",
    "              valid_acc_list=valid_acc_list,\n",
    "              results_dir=None)\n",
    "plt.ylim([40, 100])\n",
    "plt.show()"
   ]
  },
  {
   "cell_type": "code",
   "execution_count": null,
   "id": "suitable-charter",
   "metadata": {
    "pycharm": {
     "name": "#%%\n"
    }
   },
   "outputs": [],
   "source": []
  }
 ],
 "metadata": {
  "kernelspec": {
   "display_name": "Python 3",
   "language": "python",
   "name": "python3"
  },
  "language_info": {
   "codemirror_mode": {
    "name": "ipython",
    "version": 3
   },
   "file_extension": ".py",
   "mimetype": "text/x-python",
   "name": "python",
   "nbconvert_exporter": "python",
   "pygments_lexer": "ipython3",
   "version": "3.8.5"
  }
 },
 "nbformat": 4,
 "nbformat_minor": 5
}