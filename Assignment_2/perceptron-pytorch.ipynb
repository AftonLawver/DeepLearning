{
 "cells": [
  {
   "cell_type": "markdown",
   "metadata": {
    "pycharm": {
     "name": "#%% md\n"
    }
   },
   "source": [
    "STAT 453: Deep Learning (Spring 2021)  \n",
    "\n",
    "Instructor: Sebastian Raschka (sraschka@wisc.edu)  \n",
    "Course website: http://pages.stat.wisc.edu/~sraschka/teaching/stat453-ss2021/  \n",
    "GitHub repository: https://github.com/rasbt/stat453-deep-learning-ss21"
   ]
  },
  {
   "cell_type": "code",
   "execution_count": 2,
   "metadata": {
    "pycharm": {
     "name": "#%%\n"
    }
   },
   "outputs": [],
   "source": [
    "#%load_ext watermark\n",
    "#%watermark -a 'Sebastian Raschka' -v -p torch"
   ]
  },
  {
   "cell_type": "code",
   "execution_count": 11,
   "outputs": [
    {
     "data": {
      "text/plain": "'E:\\\\DeepLearning\\\\venv\\\\Scripts\\\\python.exe'"
     },
     "execution_count": 11,
     "metadata": {},
     "output_type": "execute_result"
    }
   ],
   "source": [
    "import sys\n",
    "sys.executable"
   ],
   "metadata": {
    "collapsed": false,
    "pycharm": {
     "name": "#%%\n"
    }
   }
  },
  {
   "cell_type": "markdown",
   "metadata": {
    "pycharm": {
     "name": "#%% md\n"
    }
   },
   "source": [
    "- Runs on CPU or GPU (if available)"
   ]
  },
  {
   "cell_type": "markdown",
   "metadata": {
    "pycharm": {
     "name": "#%% md\n"
    }
   },
   "source": [
    "# L03: Perceptrons"
   ]
  },
  {
   "cell_type": "markdown",
   "metadata": {
    "pycharm": {
     "name": "#%% md\n"
    }
   },
   "source": [
    "Implementation of the classic Perceptron by Frank Rosenblatt for binary classification (here: 0/1 class labels) in PyTorch"
   ]
  },
  {
   "cell_type": "markdown",
   "metadata": {
    "pycharm": {
     "name": "#%% md\n"
    }
   },
   "source": [
    "## Imports"
   ]
  },
  {
   "cell_type": "code",
   "execution_count": 1,
   "metadata": {
    "pycharm": {
     "name": "#%%\n"
    }
   },
   "outputs": [],
   "source": [
    "import numpy as np\n",
    "import matplotlib.pyplot as plt\n",
    "import torch\n",
    "%matplotlib inline"
   ]
  },
  {
   "cell_type": "markdown",
   "metadata": {
    "pycharm": {
     "name": "#%% md\n"
    }
   },
   "source": [
    "## Preparing a toy dataset"
   ]
  },
  {
   "cell_type": "code",
   "execution_count": 2,
   "metadata": {
    "pycharm": {
     "name": "#%%\n"
    }
   },
   "outputs": [
    {
     "name": "stdout",
     "output_type": "stream",
     "text": [
      "Class label counts: [50 50]\n",
      "X.shape: (100, 2)\n",
      "y.shape: (100,)\n"
     ]
    },
    {
     "name": "stderr",
     "output_type": "stream",
     "text": [
      "C:\\Users\\lawve\\AppData\\Local\\Temp\\ipykernel_22776\\3118937452.py:9: DeprecationWarning: `np.int` is a deprecated alias for the builtin `int`. To silence this warning, use `int` by itself. Doing this will not modify any behavior and is safe. When replacing `np.int`, you may wish to use e.g. `np.int64` or `np.int32` to specify the precision. If you wish to review your current use, check the release note link for additional information.\n",
      "Deprecated in NumPy 1.20; for more details and guidance: https://numpy.org/devdocs/release/1.20.0-notes.html#deprecations\n",
      "  y = y.astype(np.int)\n"
     ]
    }
   ],
   "source": [
    "##########################\n",
    "### DATASET\n",
    "##########################\n",
    "\n",
    "data = np.genfromtxt('perceptron_toydata.txt', delimiter='\\t')\n",
    "\n",
    "X, y = data[:, :2], data[:, 2]\n",
    "\n",
    "y = y.astype(np.int)\n",
    "\n",
    "print('Class label counts:', np.bincount(y))\n",
    "print('X.shape:', X.shape)\n",
    "print('y.shape:', y.shape)\n",
    "\n",
    "# Shuffling & train/test split\n",
    "shuffle_idx = np.arange(y.shape[0])\n",
    "shuffle_rng = np.random.RandomState(123)\n",
    "shuffle_rng.shuffle(shuffle_idx)\n",
    "X, y = X[shuffle_idx], y[shuffle_idx]\n",
    "\n",
    "X_train, X_test = X[shuffle_idx[:70]], X[shuffle_idx[70:]]\n",
    "y_train, y_test = y[shuffle_idx[:70]], y[shuffle_idx[70:]]\n",
    "\n",
    "# Normalize (mean zero, unit variance)\n",
    "mu, sigma = X_train.mean(axis=0), X_train.std(axis=0)\n",
    "X_train = (X_train - mu) / sigma\n",
    "X_test = (X_test - mu) / sigma"
   ]
  },
  {
   "cell_type": "code",
   "execution_count": 3,
   "metadata": {
    "pycharm": {
     "name": "#%%\n"
    }
   },
   "outputs": [
    {
     "data": {
      "text/plain": "array([1, 0, 1, 1, 0, 0, 0, 0, 1, 1, 0, 0, 1, 0, 0, 0, 1, 1, 0, 0, 1, 1,\n       1, 0, 1, 0, 1, 0, 0, 1, 1, 0, 1, 0, 1, 1, 1, 0, 0, 1, 0, 0, 1, 0,\n       1, 0, 1, 0, 0, 0, 1, 1, 0, 1, 0, 1, 0, 0, 0, 1, 0, 1, 1, 1, 0, 0,\n       1, 0, 0, 0])"
     },
     "execution_count": 3,
     "metadata": {},
     "output_type": "execute_result"
    }
   ],
   "source": [
    "y_train"
   ]
  },
  {
   "cell_type": "code",
   "execution_count": 4,
   "outputs": [
    {
     "data": {
      "text/plain": "array([[ 1.37001499,  0.89400639],\n       [-1.47257051, -0.30436276],\n       [ 1.78644472,  1.28241061],\n       [ 0.75442323,  0.49612888],\n       [-0.70760722, -1.02433157],\n       [ 0.21125402, -1.03854148],\n       [ 0.3832576 , -0.63592734],\n       [-1.29604052, -2.21322744],\n       [ 0.6503158 ,  1.17346797],\n       [ 0.740844  ,  1.72765449],\n       [-1.13761617, -1.14274749],\n       [-2.35069406, -0.46540841],\n       [ 1.07579834,  1.48134937],\n       [-0.63518466, -0.65013725],\n       [-1.25077642, -2.04744514],\n       [-0.48128671, -1.35589615],\n       [ 0.44210094,  0.87505984],\n       [ 0.62768375,  0.7803271 ],\n       [-1.16024822, -1.13801085],\n       [-0.73023927,  0.28298022],\n       [ 0.47378581,  1.17346797],\n       [ 0.9219004 ,  0.29719013],\n       [ 0.90832117,  1.66134157],\n       [-0.44054902, -1.91955595],\n       [ 0.78158169,  0.2024574 ],\n       [-0.62160543, -1.16643068],\n       [ 0.71368554,  1.76554758],\n       [-0.79813542, -0.6311907 ],\n       [-0.98824464, -0.09121409],\n       [ 0.73179118,  0.86084993],\n       [ 0.57789324,  0.52454871],\n       [-0.60349978, -0.25225975],\n       [ 1.12106244,  0.33508323],\n       [-0.13275314, -1.00064838],\n       [ 1.20253782,  0.75190728],\n       [ 1.45149038,  0.33981987],\n       [ 0.81779297,  1.23030761],\n       [-0.95655977, -0.796973  ],\n       [ 0.04377685, -0.105424  ],\n       [ 0.6050517 ,  0.45823579],\n       [-0.27307185, -0.81591954],\n       [-1.30056693, -0.64540061],\n       [ 1.17537936,  0.77085383],\n       [ 0.01209198, -1.01959493],\n       [ 0.26557094,  1.05978868],\n       [-0.45412825, -0.67855707],\n       [ 0.59147247,  1.10715505],\n       [-0.93392772, -0.86328591],\n       [-1.75773435, -1.04327812],\n       [-0.2504398 , -0.82065618],\n       [ 0.89474194,  0.53875862],\n       [ 1.35643576,  1.00294904],\n       [-1.0606672 , -1.6827241 ],\n       [ 0.34251991,  0.63349136],\n       [-0.64423748,  0.06509492],\n       [ 1.22516987,  0.09351475],\n       [-1.81657768,  0.39192287],\n       [-0.1146475 ,  0.58612499],\n       [-0.75287132, -0.61698079],\n       [ 1.21611705,  1.28714725],\n       [ 0.20672761,  0.35402978],\n       [ 1.3292773 ,  0.54349525],\n       [ 0.55073478,  1.75607431],\n       [ 1.11200962,  0.33034659],\n       [-0.97919182, -1.10011776],\n       [-1.52688743, -0.38488558],\n       [ 2.01729163,  1.29662053],\n       [-1.30961975, -0.86802255],\n       [-1.05614079, -1.19011386],\n       [-0.69402799, -0.70224026]])"
     },
     "execution_count": 4,
     "metadata": {},
     "output_type": "execute_result"
    }
   ],
   "source": [
    "X_train"
   ],
   "metadata": {
    "collapsed": false,
    "pycharm": {
     "name": "#%%\n"
    }
   }
  },
  {
   "cell_type": "code",
   "execution_count": 5,
   "metadata": {
    "pycharm": {
     "name": "#%%\n"
    }
   },
   "outputs": [
    {
     "data": {
      "text/plain": "<Figure size 432x288 with 1 Axes>",
      "image/png": "[encoded data removed]"
     },
     "metadata": {
      "needs_background": "light"
     },
     "output_type": "display_data"
    }
   ],
   "source": [
    "plt.scatter(X_train[y_train==0, 0], X_train[y_train==0, 1], label='class 0', marker='o')\n",
    "plt.scatter(X_train[y_train==1, 0], X_train[y_train==1, 1], label='class 1', marker='s')\n",
    "plt.title('Training set')\n",
    "plt.xlabel('feature 1')\n",
    "plt.ylabel('feature 2')\n",
    "plt.xlim([-3, 3])\n",
    "plt.ylim([-3, 3])\n",
    "plt.legend()\n",
    "plt.show()"
   ]
  },
  {
   "cell_type": "code",
   "execution_count": 6,
   "metadata": {
    "pycharm": {
     "name": "#%%\n"
    }
   },
   "outputs": [
    {
     "data": {
      "text/plain": "<Figure size 432x288 with 1 Axes>",
      "image/png": "[encoded data removed]"
     },
     "metadata": {
      "needs_background": "light"
     },
     "output_type": "display_data"
    }
   ],
   "source": [
    "plt.scatter(X_test[y_test==0, 0], X_test[y_test==0, 1], label='class 0', marker='o')\n",
    "plt.scatter(X_test[y_test==1, 0], X_test[y_test==1, 1], label='class 1', marker='s')\n",
    "plt.title('Test set')\n",
    "plt.xlabel('feature 1')\n",
    "plt.ylabel('feature 2')\n",
    "plt.xlim([-3, 3])\n",
    "plt.ylim([-3, 3])\n",
    "plt.legend()\n",
    "plt.show()"
   ]
  },
  {
   "cell_type": "markdown",
   "metadata": {
    "pycharm": {
     "name": "#%% md\n"
    }
   },
   "source": [
    "## Defining the Perceptron model"
   ]
  },
  {
   "cell_type": "code",
   "execution_count": 7,
   "metadata": {
    "pycharm": {
     "name": "#%%\n"
    }
   },
   "outputs": [
    {
     "name": "stdout",
     "output_type": "stream",
     "text": [
      "False\n"
     ]
    }
   ],
   "source": [
    "device = torch.device(\"cuda:0\" if torch.cuda.is_available() else \"cpu\")\n",
    "print(torch.cuda.is_available())\n",
    "\n",
    "\n",
    "class Perceptron():\n",
    "    def __init__(self, num_features):\n",
    "        self.num_features = num_features\n",
    "        self.weights = torch.zeros(num_features, 1, \n",
    "                                   dtype=torch.float32, device=device)\n",
    "        self.bias = torch.zeros(1, dtype=torch.float32, device=device)\n",
    "        \n",
    "        # placeholder vectors so they don't\n",
    "        # need to be recreated each time\n",
    "        self.ones = torch.ones(1).to('cuda')  #Ahmed: added to.('cuda') to send tensors used in prediction to GPU device\n",
    "        self.zeros = torch.zeros(1).to('cuda')\n",
    "\n",
    "    def forward(self, x):\n",
    "        linear = torch.mm(x, self.weights) + self.bias\n",
    "        print(linear)\n",
    "        predictions = torch.where(linear > 0., self.ones, self.zeros)\n",
    "        return predictions\n",
    "        \n",
    "    def backward(self, x, y):  \n",
    "        predictions = self.forward(x)\n",
    "        errors = y - predictions\n",
    "        return errors\n",
    "        \n",
    "    def train(self, x, y, epochs):\n",
    "        for e in range(epochs):\n",
    "            \n",
    "            for i in range(y.shape[0]):\n",
    "                # use view because backward expects a matrix (i.e., 2D tensor)\n",
    "                errors = self.backward(x[i].reshape(1, self.num_features), y[i]).reshape(-1)\n",
    "                self.weights += (errors * x[i]).reshape(self.num_features, 1)\n",
    "                self.bias += errors\n",
    "                \n",
    "    def evaluate(self, x, y):\n",
    "        predictions = self.forward(x).reshape(-1)\n",
    "        accuracy = torch.sum(predictions == y).float() / y.shape[0]\n",
    "        return accuracy"
   ]
  },
  {
   "cell_type": "markdown",
   "metadata": {
    "pycharm": {
     "name": "#%% md\n"
    }
   },
   "source": [
    "## Training the Perceptron"
   ]
  },
  {
   "cell_type": "code",
   "execution_count": 10,
   "metadata": {
    "pycharm": {
     "name": "#%%\n"
    }
   },
   "outputs": [
    {
     "name": "stdout",
     "output_type": "stream",
     "text": [
      "tensor([[0.]], device='cuda:0')\n",
      "tensor([[-1.2895]], device='cuda:0')\n",
      "tensor([[4.5939]], device='cuda:0')\n",
      "tensor([[2.4771]], device='cuda:0')\n",
      "tensor([[-0.8852]], device='cuda:0')\n",
      "tensor([[0.3610]], device='cuda:0')\n",
      "tensor([[-0.7849]], device='cuda:0')\n",
      "tensor([[-5.7790]], device='cuda:0')\n",
      "tensor([[3.0213]], device='cuda:0')\n",
      "tensor([[4.1972]], device='cuda:0')\n",
      "tensor([[-3.5266]], device='cuda:0')\n",
      "tensor([[-3.6233]], device='cuda:0')\n",
      "tensor([[4.1094]], device='cuda:0')\n",
      "tensor([[-1.9924]], device='cuda:0')\n",
      "tensor([[-5.4061]], device='cuda:0')\n",
      "tensor([[-3.1780]], device='cuda:0')\n",
      "tensor([[2.2034]], device='cuda:0')\n",
      "tensor([[2.2354]], device='cuda:0')\n",
      "tensor([[-3.5437]], device='cuda:0')\n",
      "tensor([[-0.2993]], device='cuda:0')\n",
      "tensor([[2.8168]], device='cuda:0')\n",
      "tensor([[1.6426]], device='cuda:0')\n",
      "tensor([[4.2631]], device='cuda:0')\n",
      "tensor([[-4.2201]], device='cuda:0')\n",
      "tensor([[1.2969]], device='cuda:0')\n",
      "tensor([[-2.9745]], device='cuda:0')\n",
      "tensor([[4.2390]], device='cuda:0')\n",
      "tensor([[-2.1447]], device='cuda:0')\n",
      "tensor([[-1.3214]], device='cuda:0')\n",
      "tensor([[2.5116]], device='cuda:0')\n",
      "tensor([[1.6834]], device='cuda:0')\n",
      "tensor([[-1.1868]], device='cuda:0')\n",
      "tensor([[1.9466]], device='cuda:0')\n",
      "tensor([[-2.0876]], device='cuda:0')\n",
      "tensor([[2.8466]], device='cuda:0')\n",
      "tensor([[2.3386]], device='cuda:0')\n",
      "tensor([[3.3253]], device='cuda:0')\n",
      "tensor([[-2.6486]], device='cuda:0')\n",
      "tensor([[-0.1530]], device='cuda:0')\n",
      "tensor([[1.5867]], device='cuda:0')\n",
      "tensor([[-1.8932]], device='cuda:0')\n",
      "tensor([[-2.7543]], device='cuda:0')\n",
      "tensor([[2.8517]], device='cuda:0')\n",
      "tensor([[-1.9564]], device='cuda:0')\n",
      "tensor([[2.3558]], device='cuda:0')\n",
      "tensor([[-1.8376]], device='cuda:0')\n",
      "tensor([[2.8250]], device='cuda:0')\n",
      "tensor([[-2.7505]], device='cuda:0')\n",
      "tensor([[-4.0530]], device='cuda:0')\n",
      "tensor([[-1.8762]], device='cuda:0')\n",
      "tensor([[2.0780]], device='cuda:0')\n",
      "tensor([[3.5100]], device='cuda:0')\n",
      "tensor([[-4.4810]], device='cuda:0')\n",
      "tensor([[1.6212]], device='cuda:0')\n",
      "tensor([[-0.6207]], device='cuda:0')\n",
      "tensor([[1.6004]], device='cuda:0')\n",
      "tensor([[-1.3476]], device='cuda:0')\n",
      "tensor([[0.9999]], device='cuda:0')\n",
      "tensor([[-2.7894]], device='cuda:0')\n",
      "tensor([[2.2817]], device='cuda:0')\n",
      "tensor([[-0.2601]], device='cuda:0')\n",
      "tensor([[1.4245]], device='cuda:0')\n",
      "tensor([[2.0657]], device='cuda:0')\n",
      "tensor([[0.8608]], device='cuda:0')\n",
      "tensor([[-3.7281]], device='cuda:0')\n",
      "tensor([[-3.4626]], device='cuda:0')\n",
      "tensor([[3.3146]], device='cuda:0')\n",
      "tensor([[-3.8364]], device='cuda:0')\n",
      "tensor([[-3.9473]], device='cuda:0')\n",
      "tensor([[-2.8293]], device='cuda:0')\n",
      "tensor([[1.9483]], device='cuda:0')\n",
      "tensor([[-3.2850]], device='cuda:0')\n",
      "tensor([[3.0015]], device='cuda:0')\n",
      "tensor([[0.6287]], device='cuda:0')\n",
      "tensor([[-3.2803]], device='cuda:0')\n",
      "tensor([[-2.1293]], device='cuda:0')\n",
      "tensor([[-1.3682]], device='cuda:0')\n",
      "tensor([[-5.6303]], device='cuda:0')\n",
      "tensor([[1.4081]], device='cuda:0')\n",
      "tensor([[2.2696]], device='cuda:0')\n",
      "tensor([[-3.9873]], device='cuda:0')\n",
      "tensor([[-4.6200]], device='cuda:0')\n",
      "tensor([[2.3645]], device='cuda:0')\n",
      "tensor([[-2.6842]], device='cuda:0')\n",
      "tensor([[-5.3495]], device='cuda:0')\n",
      "tensor([[-3.4385]], device='cuda:0')\n",
      "tensor([[0.7412]], device='cuda:0')\n",
      "tensor([[0.8499]], device='cuda:0')\n",
      "tensor([[-4.0097]], device='cuda:0')\n",
      "tensor([[-1.5489]], device='cuda:0')\n",
      "tensor([[1.1833]], device='cuda:0')\n",
      "tensor([[0.5741]], device='cuda:0')\n",
      "tensor([[2.3935]], device='cuda:0')\n",
      "tensor([[-4.1455]], device='cuda:0')\n",
      "tensor([[0.2679]], device='cuda:0')\n",
      "tensor([[-3.3621]], device='cuda:0')\n",
      "tensor([[2.2860]], device='cuda:0')\n",
      "tensor([[-2.8662]], device='cuda:0')\n",
      "tensor([[-2.3813]], device='cuda:0')\n",
      "tensor([[1.0909]], device='cuda:0')\n",
      "tensor([[0.4422]], device='cuda:0')\n",
      "tensor([[-2.1082]], device='cuda:0')\n",
      "tensor([[0.8787]], device='cuda:0')\n",
      "tensor([[-2.5163]], device='cuda:0')\n",
      "tensor([[1.5437]], device='cuda:0')\n",
      "tensor([[1.3059]], device='cuda:0')\n",
      "tensor([[1.6979]], device='cuda:0')\n",
      "tensor([[-3.2912]], device='cuda:0')\n",
      "tensor([[-1.0862]], device='cuda:0')\n",
      "tensor([[0.3875]], device='cuda:0')\n",
      "tensor([[-2.4463]], device='cuda:0')\n",
      "tensor([[-3.5251]], device='cuda:0')\n",
      "tensor([[1.5346]], device='cuda:0')\n",
      "tensor([[-2.3574]], device='cuda:0')\n",
      "tensor([[0.7651]], device='cuda:0')\n",
      "tensor([[-2.4919]], device='cuda:0')\n",
      "tensor([[1.2439]], device='cuda:0')\n",
      "tensor([[-3.3516]], device='cuda:0')\n",
      "tensor([[-4.6430]], device='cuda:0')\n",
      "tensor([[-2.4239]], device='cuda:0')\n",
      "tensor([[0.8648]], device='cuda:0')\n",
      "tensor([[2.0777]], device='cuda:0')\n",
      "tensor([[-4.6163]], device='cuda:0')\n",
      "tensor([[0.2891]], device='cuda:0')\n",
      "tensor([[-1.7327]], device='cuda:0')\n",
      "tensor([[0.6861]], device='cuda:0')\n",
      "tensor([[-2.7856]], device='cuda:0')\n",
      "tensor([[-0.3568]], device='cuda:0')\n",
      "tensor([[-2.7894]], device='cuda:0')\n",
      "tensor([[2.2817]], device='cuda:0')\n",
      "tensor([[-0.2601]], device='cuda:0')\n",
      "tensor([[1.4245]], device='cuda:0')\n",
      "tensor([[2.0657]], device='cuda:0')\n",
      "tensor([[0.8608]], device='cuda:0')\n",
      "tensor([[-3.7281]], device='cuda:0')\n",
      "tensor([[-3.4626]], device='cuda:0')\n",
      "tensor([[3.3146]], device='cuda:0')\n",
      "tensor([[-3.8364]], device='cuda:0')\n",
      "tensor([[-3.9473]], device='cuda:0')\n",
      "tensor([[-2.8293]], device='cuda:0')\n",
      "tensor([[1.9483]], device='cuda:0')\n",
      "tensor([[-3.2850]], device='cuda:0')\n",
      "tensor([[3.0015]], device='cuda:0')\n",
      "tensor([[0.6287]], device='cuda:0')\n",
      "tensor([[-3.2803]], device='cuda:0')\n",
      "tensor([[-2.1293]], device='cuda:0')\n",
      "tensor([[-1.3682]], device='cuda:0')\n",
      "tensor([[-5.6303]], device='cuda:0')\n",
      "tensor([[1.4081]], device='cuda:0')\n",
      "tensor([[2.2696]], device='cuda:0')\n",
      "tensor([[-3.9873]], device='cuda:0')\n",
      "tensor([[-4.6200]], device='cuda:0')\n",
      "tensor([[2.3645]], device='cuda:0')\n",
      "tensor([[-2.6842]], device='cuda:0')\n",
      "tensor([[-5.3495]], device='cuda:0')\n",
      "tensor([[-3.4385]], device='cuda:0')\n",
      "tensor([[0.7412]], device='cuda:0')\n",
      "tensor([[0.8499]], device='cuda:0')\n",
      "tensor([[-4.0097]], device='cuda:0')\n",
      "tensor([[-1.5489]], device='cuda:0')\n",
      "tensor([[1.1833]], device='cuda:0')\n",
      "tensor([[0.5741]], device='cuda:0')\n",
      "tensor([[2.3935]], device='cuda:0')\n",
      "tensor([[-4.1455]], device='cuda:0')\n",
      "tensor([[0.2679]], device='cuda:0')\n",
      "tensor([[-3.3621]], device='cuda:0')\n",
      "tensor([[2.2860]], device='cuda:0')\n",
      "tensor([[-2.8662]], device='cuda:0')\n",
      "tensor([[-2.3813]], device='cuda:0')\n",
      "tensor([[1.0909]], device='cuda:0')\n",
      "tensor([[0.4422]], device='cuda:0')\n",
      "tensor([[-2.1082]], device='cuda:0')\n",
      "tensor([[0.8787]], device='cuda:0')\n",
      "tensor([[-2.5163]], device='cuda:0')\n",
      "tensor([[1.5437]], device='cuda:0')\n",
      "tensor([[1.3059]], device='cuda:0')\n",
      "tensor([[1.6979]], device='cuda:0')\n",
      "tensor([[-3.2912]], device='cuda:0')\n",
      "tensor([[-1.0862]], device='cuda:0')\n",
      "tensor([[0.3875]], device='cuda:0')\n",
      "tensor([[-2.4463]], device='cuda:0')\n",
      "tensor([[-3.5251]], device='cuda:0')\n",
      "tensor([[1.5346]], device='cuda:0')\n",
      "tensor([[-2.3574]], device='cuda:0')\n",
      "tensor([[0.7651]], device='cuda:0')\n",
      "tensor([[-2.4919]], device='cuda:0')\n",
      "tensor([[1.2439]], device='cuda:0')\n",
      "tensor([[-3.3516]], device='cuda:0')\n",
      "tensor([[-4.6430]], device='cuda:0')\n",
      "tensor([[-2.4239]], device='cuda:0')\n",
      "tensor([[0.8648]], device='cuda:0')\n",
      "tensor([[2.0777]], device='cuda:0')\n",
      "tensor([[-4.6163]], device='cuda:0')\n",
      "tensor([[0.2891]], device='cuda:0')\n",
      "tensor([[-1.7327]], device='cuda:0')\n",
      "tensor([[0.6861]], device='cuda:0')\n",
      "tensor([[-2.7856]], device='cuda:0')\n",
      "tensor([[-0.3568]], device='cuda:0')\n",
      "tensor([[-2.7894]], device='cuda:0')\n",
      "tensor([[2.2817]], device='cuda:0')\n",
      "tensor([[-0.2601]], device='cuda:0')\n",
      "tensor([[1.4245]], device='cuda:0')\n",
      "tensor([[2.0657]], device='cuda:0')\n",
      "tensor([[0.8608]], device='cuda:0')\n",
      "tensor([[-3.7281]], device='cuda:0')\n",
      "tensor([[-3.4626]], device='cuda:0')\n",
      "tensor([[3.3146]], device='cuda:0')\n",
      "tensor([[-3.8364]], device='cuda:0')\n",
      "tensor([[-3.9473]], device='cuda:0')\n",
      "tensor([[-2.8293]], device='cuda:0')\n",
      "tensor([[1.9483]], device='cuda:0')\n",
      "tensor([[-3.2850]], device='cuda:0')\n",
      "tensor([[3.0015]], device='cuda:0')\n",
      "tensor([[0.6287]], device='cuda:0')\n",
      "tensor([[-3.2803]], device='cuda:0')\n",
      "tensor([[-2.1293]], device='cuda:0')\n",
      "tensor([[-1.3682]], device='cuda:0')\n",
      "tensor([[-5.6303]], device='cuda:0')\n",
      "tensor([[1.4081]], device='cuda:0')\n",
      "tensor([[2.2696]], device='cuda:0')\n",
      "tensor([[-3.9873]], device='cuda:0')\n",
      "tensor([[-4.6200]], device='cuda:0')\n",
      "tensor([[2.3645]], device='cuda:0')\n",
      "tensor([[-2.6842]], device='cuda:0')\n",
      "tensor([[-5.3495]], device='cuda:0')\n",
      "tensor([[-3.4385]], device='cuda:0')\n",
      "tensor([[0.7412]], device='cuda:0')\n",
      "tensor([[0.8499]], device='cuda:0')\n",
      "tensor([[-4.0097]], device='cuda:0')\n",
      "tensor([[-1.5489]], device='cuda:0')\n",
      "tensor([[1.1833]], device='cuda:0')\n",
      "tensor([[0.5741]], device='cuda:0')\n",
      "tensor([[2.3935]], device='cuda:0')\n",
      "tensor([[-4.1455]], device='cuda:0')\n",
      "tensor([[0.2679]], device='cuda:0')\n",
      "tensor([[-3.3621]], device='cuda:0')\n",
      "tensor([[2.2860]], device='cuda:0')\n",
      "tensor([[-2.8662]], device='cuda:0')\n",
      "tensor([[-2.3813]], device='cuda:0')\n",
      "tensor([[1.0909]], device='cuda:0')\n",
      "tensor([[0.4422]], device='cuda:0')\n",
      "tensor([[-2.1082]], device='cuda:0')\n",
      "tensor([[0.8787]], device='cuda:0')\n",
      "tensor([[-2.5163]], device='cuda:0')\n",
      "tensor([[1.5437]], device='cuda:0')\n",
      "tensor([[1.3059]], device='cuda:0')\n",
      "tensor([[1.6979]], device='cuda:0')\n",
      "tensor([[-3.2912]], device='cuda:0')\n",
      "tensor([[-1.0862]], device='cuda:0')\n",
      "tensor([[0.3875]], device='cuda:0')\n",
      "tensor([[-2.4463]], device='cuda:0')\n",
      "tensor([[-3.5251]], device='cuda:0')\n",
      "tensor([[1.5346]], device='cuda:0')\n",
      "tensor([[-2.3574]], device='cuda:0')\n",
      "tensor([[0.7651]], device='cuda:0')\n",
      "tensor([[-2.4919]], device='cuda:0')\n",
      "tensor([[1.2439]], device='cuda:0')\n",
      "tensor([[-3.3516]], device='cuda:0')\n",
      "tensor([[-4.6430]], device='cuda:0')\n",
      "tensor([[-2.4239]], device='cuda:0')\n",
      "tensor([[0.8648]], device='cuda:0')\n",
      "tensor([[2.0777]], device='cuda:0')\n",
      "tensor([[-4.6163]], device='cuda:0')\n",
      "tensor([[0.2891]], device='cuda:0')\n",
      "tensor([[-1.7327]], device='cuda:0')\n",
      "tensor([[0.6861]], device='cuda:0')\n",
      "tensor([[-2.7856]], device='cuda:0')\n",
      "tensor([[-0.3568]], device='cuda:0')\n",
      "tensor([[-2.7894]], device='cuda:0')\n",
      "tensor([[2.2817]], device='cuda:0')\n",
      "tensor([[-0.2601]], device='cuda:0')\n",
      "tensor([[1.4245]], device='cuda:0')\n",
      "tensor([[2.0657]], device='cuda:0')\n",
      "tensor([[0.8608]], device='cuda:0')\n",
      "tensor([[-3.7281]], device='cuda:0')\n",
      "tensor([[-3.4626]], device='cuda:0')\n",
      "tensor([[3.3146]], device='cuda:0')\n",
      "tensor([[-3.8364]], device='cuda:0')\n",
      "tensor([[-3.9473]], device='cuda:0')\n",
      "tensor([[-2.8293]], device='cuda:0')\n",
      "tensor([[1.9483]], device='cuda:0')\n",
      "tensor([[-3.2850]], device='cuda:0')\n",
      "tensor([[3.0015]], device='cuda:0')\n",
      "tensor([[0.6287]], device='cuda:0')\n",
      "tensor([[-3.2803]], device='cuda:0')\n",
      "tensor([[-2.1293]], device='cuda:0')\n",
      "tensor([[-1.3682]], device='cuda:0')\n",
      "tensor([[-5.6303]], device='cuda:0')\n",
      "tensor([[1.4081]], device='cuda:0')\n",
      "tensor([[2.2696]], device='cuda:0')\n",
      "tensor([[-3.9873]], device='cuda:0')\n",
      "tensor([[-4.6200]], device='cuda:0')\n",
      "tensor([[2.3645]], device='cuda:0')\n",
      "tensor([[-2.6842]], device='cuda:0')\n",
      "tensor([[-5.3495]], device='cuda:0')\n",
      "tensor([[-3.4385]], device='cuda:0')\n",
      "tensor([[0.7412]], device='cuda:0')\n",
      "tensor([[0.8499]], device='cuda:0')\n",
      "tensor([[-4.0097]], device='cuda:0')\n",
      "tensor([[-1.5489]], device='cuda:0')\n",
      "tensor([[1.1833]], device='cuda:0')\n",
      "tensor([[0.5741]], device='cuda:0')\n",
      "tensor([[2.3935]], device='cuda:0')\n",
      "tensor([[-4.1455]], device='cuda:0')\n",
      "tensor([[0.2679]], device='cuda:0')\n",
      "tensor([[-3.3621]], device='cuda:0')\n",
      "tensor([[2.2860]], device='cuda:0')\n",
      "tensor([[-2.8662]], device='cuda:0')\n",
      "tensor([[-2.3813]], device='cuda:0')\n",
      "tensor([[1.0909]], device='cuda:0')\n",
      "tensor([[0.4422]], device='cuda:0')\n",
      "tensor([[-2.1082]], device='cuda:0')\n",
      "tensor([[0.8787]], device='cuda:0')\n",
      "tensor([[-2.5163]], device='cuda:0')\n",
      "tensor([[1.5437]], device='cuda:0')\n",
      "tensor([[1.3059]], device='cuda:0')\n",
      "tensor([[1.6979]], device='cuda:0')\n",
      "tensor([[-3.2912]], device='cuda:0')\n",
      "tensor([[-1.0862]], device='cuda:0')\n",
      "tensor([[0.3875]], device='cuda:0')\n",
      "tensor([[-2.4463]], device='cuda:0')\n",
      "tensor([[-3.5251]], device='cuda:0')\n",
      "tensor([[1.5346]], device='cuda:0')\n",
      "tensor([[-2.3574]], device='cuda:0')\n",
      "tensor([[0.7651]], device='cuda:0')\n",
      "tensor([[-2.4919]], device='cuda:0')\n",
      "tensor([[1.2439]], device='cuda:0')\n",
      "tensor([[-3.3516]], device='cuda:0')\n",
      "tensor([[-4.6430]], device='cuda:0')\n",
      "tensor([[-2.4239]], device='cuda:0')\n",
      "tensor([[0.8648]], device='cuda:0')\n",
      "tensor([[2.0777]], device='cuda:0')\n",
      "tensor([[-4.6163]], device='cuda:0')\n",
      "tensor([[0.2891]], device='cuda:0')\n",
      "tensor([[-1.7327]], device='cuda:0')\n",
      "tensor([[0.6861]], device='cuda:0')\n",
      "tensor([[-2.7856]], device='cuda:0')\n",
      "tensor([[-0.3568]], device='cuda:0')\n",
      "tensor([[-2.7894]], device='cuda:0')\n",
      "tensor([[2.2817]], device='cuda:0')\n",
      "tensor([[-0.2601]], device='cuda:0')\n",
      "tensor([[1.4245]], device='cuda:0')\n",
      "tensor([[2.0657]], device='cuda:0')\n",
      "tensor([[0.8608]], device='cuda:0')\n",
      "tensor([[-3.7281]], device='cuda:0')\n",
      "tensor([[-3.4626]], device='cuda:0')\n",
      "tensor([[3.3146]], device='cuda:0')\n",
      "tensor([[-3.8364]], device='cuda:0')\n",
      "tensor([[-3.9473]], device='cuda:0')\n",
      "tensor([[-2.8293]], device='cuda:0')\n",
      "Model parameters:\n",
      "  Weights: tensor([[1.2734],\n",
      "        [1.3464]], device='cuda:0')\n",
      "  Bias: tensor([-1.], device='cuda:0')\n"
     ]
    }
   ],
   "source": [
    "ppn = Perceptron(num_features=2)\n",
    "X_train_tensor = torch.tensor(X_train, dtype=torch.float32, device=device)\n",
    "y_train_tensor = torch.tensor(y_train, dtype=torch.float32, device=device)\n",
    "\n",
    "ppn.train(X_train_tensor, y_train_tensor, epochs=5)\n",
    "\n",
    "print('Model parameters:')\n",
    "print('  Weights: %s' % ppn.weights)\n",
    "print('  Bias: %s' % ppn.bias)"
   ]
  },
  {
   "cell_type": "markdown",
   "metadata": {
    "pycharm": {
     "name": "#%% md\n"
    }
   },
   "source": [
    "## Evaluating the model"
   ]
  },
  {
   "cell_type": "code",
   "execution_count": 11,
   "metadata": {
    "pycharm": {
     "name": "#%%\n"
    }
   },
   "outputs": [
    {
     "name": "stdout",
     "output_type": "stream",
     "text": [
      "tensor([[-5.2655],\n",
      "        [ 2.2333],\n",
      "        [-3.6607],\n",
      "        [ 1.2299],\n",
      "        [ 1.5660],\n",
      "        [-0.5960],\n",
      "        [ 1.8989],\n",
      "        [-2.2295],\n",
      "        [ 0.9763],\n",
      "        [-2.6171],\n",
      "        [ 1.1701],\n",
      "        [ 1.8495],\n",
      "        [ 2.3101],\n",
      "        [ 3.3939],\n",
      "        [ 1.9910],\n",
      "        [-2.5183],\n",
      "        [ 0.7720],\n",
      "        [ 3.4429],\n",
      "        [-0.2152],\n",
      "        [-0.4414],\n",
      "        [-3.1148],\n",
      "        [-4.0487],\n",
      "        [ 1.9062],\n",
      "        [ 0.3999],\n",
      "        [-3.3301],\n",
      "        [-3.0697],\n",
      "        [-2.6881],\n",
      "        [-4.3688],\n",
      "        [ 1.5331],\n",
      "        [ 1.7889]], device='cuda:0')\n",
      "Test set accuracy: 93.33%\n"
     ]
    }
   ],
   "source": [
    "X_test_tensor = torch.tensor(X_test, dtype=torch.float32, device=device)\n",
    "y_test_tensor = torch.tensor(y_test, dtype=torch.float32, device=device)\n",
    "\n",
    "test_acc = ppn.evaluate(X_test_tensor, y_test_tensor)\n",
    "print('Test set accuracy: %.2f%%' % (test_acc*100))"
   ]
  },
  {
   "cell_type": "code",
   "execution_count": 12,
   "metadata": {
    "pycharm": {
     "name": "#%%\n"
    }
   },
   "outputs": [
    {
     "name": "stderr",
     "output_type": "stream",
     "text": [
      "C:\\PythonEnvs\\venv\\lib\\site-packages\\numpy\\core\\shape_base.py:65: FutureWarning: The input object of type 'Tensor' is an array-like implementing one of the corresponding protocols (`__array__`, `__array_interface__` or `__array_struct__`); but not a sequence (or 0-D). In the future, this object will be coerced as if it was first converted using `np.array(obj)`. To retain the old behaviour, you have to either modify the type 'Tensor', or assign to an empty array created with `np.empty(correct_shape, dtype=object)`.\n",
      "  ary = asanyarray(ary)\n",
      "C:\\PythonEnvs\\venv\\lib\\site-packages\\numpy\\core\\shape_base.py:65: VisibleDeprecationWarning: Creating an ndarray from ragged nested sequences (which is a list-or-tuple of lists-or-tuples-or ndarrays with different lengths or shapes) is deprecated. If you meant to do this, you must specify 'dtype=object' when creating the ndarray.\n",
      "  ary = asanyarray(ary)\n"
     ]
    },
    {
     "data": {
      "text/plain": "<Figure size 504x216 with 2 Axes>",
      "image/png": "[encoded data removed]"
     },
     "metadata": {
      "needs_background": "light"
     },
     "output_type": "display_data"
    }
   ],
   "source": [
    "##########################\n",
    "### 2D Decision Boundary\n",
    "##########################\n",
    "\n",
    "w, b = ppn.weights.cpu(), ppn.bias.cpu()  #Ahmed: used .cpu() to send tensors from device to CPU\n",
    "\n",
    "x0_min = -2\n",
    "x1_min = ( (-(w[0] * x0_min) - b[0]) \n",
    "          / w[1] )\n",
    "\n",
    "x0_max = 2\n",
    "x1_max = ( (-(w[0] * x0_max) - b[0]) \n",
    "          / w[1] )\n",
    "\n",
    "\n",
    "fig, ax = plt.subplots(1, 2, sharex=True, figsize=(7, 3))\n",
    "\n",
    "ax[0].plot([x0_min, x0_max], [x1_min, x1_max])\n",
    "ax[1].plot([x0_min, x0_max], [x1_min, x1_max])\n",
    "\n",
    "ax[0].scatter(X_train[y_train==0, 0], X_train[y_train==0, 1], label='class 0', marker='o')\n",
    "ax[0].scatter(X_train[y_train==1, 0], X_train[y_train==1, 1], label='class 1', marker='s')\n",
    "\n",
    "ax[1].scatter(X_test[y_test==0, 0], X_test[y_test==0, 1], label='class 0', marker='o')\n",
    "ax[1].scatter(X_test[y_test==1, 0], X_test[y_test==1, 1], label='class 1', marker='s')\n",
    "\n",
    "ax[1].legend(loc='upper left')\n",
    "plt.show()"
   ]
  },
  {
   "cell_type": "code",
   "execution_count": 12,
   "metadata": {
    "pycharm": {
     "name": "#%%\n"
    }
   },
   "outputs": [],
   "source": []
  },
  {
   "cell_type": "code",
   "execution_count": 12,
   "metadata": {
    "pycharm": {
     "name": "#%%\n"
    }
   },
   "outputs": [],
   "source": []
  }
 ],
 "metadata": {
  "kernelspec": {
   "display_name": "Python 3",
   "language": "python",
   "name": "python3"
  },
  "language_info": {
   "codemirror_mode": {
    "name": "ipython",
    "version": 3
   },
   "file_extension": ".py",
   "mimetype": "text/x-python",
   "name": "python",
   "nbconvert_exporter": "python",
   "pygments_lexer": "ipython3",
   "version": "3.8.5"
  },
  "toc": {
   "nav_menu": {},
   "number_sections": true,
   "sideBar": true,
   "skip_h1_title": false,
   "title_cell": "Table of Contents",
   "title_sidebar": "Contents",
   "toc_cell": false,
   "toc_position": {},
   "toc_section_display": true,
   "toc_window_display": false
  }
 },
 "nbformat": 4,
 "nbformat_minor": 4
}