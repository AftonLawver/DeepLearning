{
 "cells": [
  {
   "cell_type": "markdown",
   "metadata": {
    "pycharm": {
     "name": "#%% md\n"
    }
   },
   "source": [
    "STAT 453: Deep Learning (Spring 2020)  \n",
    "Instructor: Sebastian Raschka (sraschka@wisc.edu)  \n",
    "\n",
    "Course website: http://pages.stat.wisc.edu/~sraschka/teaching/stat453-ss2020/  \n",
    "GitHub repository: https://github.com/rasbt/stat453-deep-learning-ss20"
   ]
  },
  {
   "cell_type": "code",
   "execution_count": 18,
   "metadata": {
    "pycharm": {
     "name": "#%%\n"
    }
   },
   "outputs": [],
   "source": []
  },
  {
   "cell_type": "markdown",
   "metadata": {
    "pycharm": {
     "name": "#%% md\n"
    }
   },
   "source": [
    "# ADALINE with Stochastic Gradient Descent (Minibatch)"
   ]
  },
  {
   "cell_type": "markdown",
   "metadata": {
    "pycharm": {
     "name": "#%% md\n"
    }
   },
   "source": [
    "![](figures/adaline-concept.png)"
   ]
  },
  {
   "cell_type": "markdown",
   "metadata": {
    "pycharm": {
     "name": "#%% md\n"
    }
   },
   "source": [
    "In this notebook, we are implementing ADALINE \"by hand\" without using PyTorch's autograd capabilities. In Lecture 06, we will use \"automatic differentiation\" (also known as \"autodiff\"; or autograd in PyTorch) to implement Adaline more compactly. (The reason why we don't use autodiff here is that it is useful to understand what's going on under the hood.) "
   ]
  },
  {
   "cell_type": "code",
   "execution_count": 19,
   "metadata": {
    "pycharm": {
     "name": "#%%\n"
    }
   },
   "outputs": [],
   "source": [
    "import pandas as pd\n",
    "import matplotlib.pyplot as plt\n",
    "import torch\n",
    "%matplotlib inline"
   ]
  },
  {
   "cell_type": "markdown",
   "metadata": {
    "pycharm": {
     "name": "#%% md\n"
    }
   },
   "source": [
    "<br>\n",
    "<br>"
   ]
  },
  {
   "cell_type": "markdown",
   "metadata": {
    "pycharm": {
     "name": "#%% md\n"
    }
   },
   "source": [
    "## Load & Prepare a Toy Dataset"
   ]
  },
  {
   "cell_type": "code",
   "execution_count": 20,
   "metadata": {
    "pycharm": {
     "name": "#%%\n"
    }
   },
   "outputs": [
    {
     "name": "stdout",
     "output_type": "stream",
     "text": [
      "x1    float64\n",
      "x2    float64\n",
      "x3    float64\n",
      "x4    float64\n",
      "y       int64\n",
      "dtype: object\n"
     ]
    }
   ],
   "source": [
    "df = pd.read_csv('iris.data', index_col=None, header=None)\n",
    "df.columns = ['x1', 'x2', 'x3', 'x4', 'y']\n",
    "df = df.iloc[50:150]\n",
    "df['y'] = df['y'].apply(lambda x: 0 if x == 'Iris-versicolor' else 1)\n",
    "df.tail()\n",
    "print(df.dtypes)"
   ]
  },
  {
   "cell_type": "code",
   "execution_count": 21,
   "metadata": {
    "pycharm": {
     "name": "#%%\n"
    }
   },
   "outputs": [
    {
     "name": "stdout",
     "output_type": "stream",
     "text": [
      "tensor([[ 0.3536,  0.6949],\n",
      "        [ 0.3536, -0.1474],\n",
      "        [ 0.6366, -0.0271],\n",
      "        [ 0.0707, -0.3881],\n",
      "        [-1.0609, -1.1101],\n",
      "        [-0.4951,  0.2136],\n",
      "        [ 0.9195, -0.5084],\n",
      "        [ 0.3536,  0.3339],\n",
      "        [-0.2122, -0.3881],\n",
      "        [ 0.3536, -0.6287],\n",
      "        [ 0.0707, -0.7491],\n",
      "        [-0.2122, -0.2677],\n",
      "        [ 0.3536,  0.0933],\n",
      "        [-0.4951,  0.2136],\n",
      "        [ 1.2024,  0.9356],\n",
      "        [-0.4951, -0.9897],\n",
      "        [ 0.3536, -0.5084],\n",
      "        [ 1.4853,  0.5746],\n",
      "        [-0.2122,  0.8152],\n",
      "        [-1.6268, -1.1101],\n",
      "        [ 0.0707,  0.8152],\n",
      "        [ 1.4853, -0.5084],\n",
      "        [ 0.6366,  0.6949],\n",
      "        [ 0.0707, -0.5084],\n",
      "        [-0.7780, -1.1101],\n",
      "        [-1.9097, -1.1101],\n",
      "        [ 0.9195,  0.4543],\n",
      "        [-0.2122,  0.8152],\n",
      "        [ 0.9195,  0.9356],\n",
      "        [ 0.6366, -0.2677],\n",
      "        [ 0.3536,  0.6949],\n",
      "        [-0.2122,  0.2136],\n",
      "        [ 0.3536, -0.9897],\n",
      "        [-1.3438, -1.9524],\n",
      "        [ 0.3536, -0.5084],\n",
      "        [ 0.3536, -0.8694],\n",
      "        [ 0.9195,  1.2966],\n",
      "        [ 0.0707,  1.6576],\n",
      "        [-1.6268, -0.6287],\n",
      "        [ 1.4853,  0.8152],\n",
      "        [-0.7780,  0.8152],\n",
      "        [-0.2122, -0.9897],\n",
      "        [ 2.0511,  1.4169],\n",
      "        [-0.4951,  0.2136],\n",
      "        [-0.2122,  2.1389],\n",
      "        [ 2.6170,  1.7779],\n",
      "        [-0.2122, -0.5084],\n",
      "        [ 0.0707, -0.7491],\n",
      "        [-0.2122, -0.1474],\n",
      "        [ 0.9195, -0.1474],\n",
      "        [-1.0609,  0.0933],\n",
      "        [ 0.6366,  0.5746],\n",
      "        [-1.0609,  1.0559],\n",
      "        [ 0.0707, -0.8694],\n",
      "        [-0.7780, -0.6287],\n",
      "        [-0.7780,  2.3796],\n",
      "        [-0.4951,  0.4543],\n",
      "        [-1.9097,  0.0933],\n",
      "        [ 0.9195, -0.2677],\n",
      "        [-1.3438, -1.4710],\n",
      "        [-1.0609, -2.3134],\n",
      "        [-1.9097, -0.5084],\n",
      "        [-1.0609, -0.5084],\n",
      "        [ 1.2024, -0.2677],\n",
      "        [ 1.2024,  0.9356],\n",
      "        [ 0.6366,  0.8152],\n",
      "        [-0.2122, -0.0271],\n",
      "        [-1.0609, -0.0271],\n",
      "        [-2.4755, -1.7117],\n",
      "        [ 0.3536,  1.4169],\n",
      "        [-0.4951, -1.2304],\n",
      "        [-0.7780, -1.7117],\n",
      "        [ 2.6170,  2.1389],\n",
      "        [ 1.2024,  1.2966],\n",
      "        [-1.0609, -1.2304],\n",
      "        [-0.4951, -1.2304],\n",
      "        [ 0.3536,  1.1762],\n",
      "        [ 0.3536, -0.8694],\n",
      "        [ 0.9195,  0.2136],\n",
      "        [-0.2122,  1.4169]])\n",
      "tensor([[ 0.0707, -0.2677],\n",
      "        [ 0.3536,  0.3339],\n",
      "        [-0.2122, -1.1101],\n",
      "        [-0.2122, -0.1474],\n",
      "        [-1.6268, -1.9524],\n",
      "        [ 0.6366,  0.2136],\n",
      "        [-0.2122,  0.2136],\n",
      "        [-0.4951, -0.0271],\n",
      "        [ 0.3536, -0.0271],\n",
      "        [ 0.6366, -0.6287],\n",
      "        [-1.3438, -1.3507],\n",
      "        [ 0.9195,  1.1762],\n",
      "        [ 0.3536,  2.0186],\n",
      "        [ 0.3536, -0.3881],\n",
      "        [-0.4951, -0.8694],\n",
      "        [-1.0609,  0.0933],\n",
      "        [ 0.3536,  1.0559],\n",
      "        [ 0.0707, -1.5914],\n",
      "        [ 0.3536,  1.0559],\n",
      "        [ 0.3536,  0.2136]])\n"
     ]
    }
   ],
   "source": [
    "# Assign features and target\n",
    "\n",
    "X = torch.tensor(df[['x2', 'x3']].values, dtype=torch.float)\n",
    "y = torch.tensor(df['y'].values, dtype=torch.int)\n",
    "\n",
    "# Shuffling & train/test split\n",
    "\n",
    "torch.manual_seed(123)\n",
    "shuffle_idx = torch.randperm(y.size(0), dtype=torch.long)\n",
    "\n",
    "X, y = X[shuffle_idx], y[shuffle_idx]\n",
    "\n",
    "percent80 = int(shuffle_idx.size(0)*0.8)\n",
    "\n",
    "X_train, X_test = X[shuffle_idx[:percent80]], X[shuffle_idx[percent80:]]\n",
    "y_train, y_test = y[shuffle_idx[:percent80]], y[shuffle_idx[percent80:]]\n",
    "\n",
    "# Normalize (mean zero, unit variance)\n",
    "\n",
    "mu, sigma = X_train.mean(dim=0), X_train.std(dim=0)\n",
    "X_train = (X_train - mu) / sigma\n",
    "X_test = (X_test - mu) / sigma\n",
    "print(X_train)\n",
    "print(X_test)"
   ]
  },
  {
   "cell_type": "code",
   "execution_count": 22,
   "metadata": {
    "pycharm": {
     "name": "#%%\n"
    }
   },
   "outputs": [
    {
     "data": {
      "text/plain": "<Figure size 432x288 with 1 Axes>",
      "image/png": "[encoded data removed]"
     },
     "metadata": {
      "needs_background": "light"
     },
     "output_type": "display_data"
    }
   ],
   "source": [
    "plt.scatter(X_train[y_train == 0, 0], X_train[y_train == 0, 1], label='class 0')\n",
    "plt.scatter(X_train[y_train == 1, 0], X_train[y_train == 1, 1], label='class 1')\n",
    "plt.legend()\n",
    "plt.show()"
   ]
  },
  {
   "cell_type": "code",
   "execution_count": 23,
   "metadata": {
    "pycharm": {
     "name": "#%%\n"
    }
   },
   "outputs": [
    {
     "data": {
      "text/plain": "<Figure size 432x288 with 1 Axes>",
      "image/png": "[encoded data removed]"
     },
     "metadata": {
      "needs_background": "light"
     },
     "output_type": "display_data"
    }
   ],
   "source": [
    "plt.scatter(X_test[y_test == 0, 0], X_test[y_test == 0, 1], label='class 0')\n",
    "plt.scatter(X_test[y_test == 1, 0], X_test[y_test == 1, 1], label='class 1')\n",
    "plt.legend()\n",
    "plt.show()"
   ]
  },
  {
   "cell_type": "markdown",
   "metadata": {
    "pycharm": {
     "name": "#%% md\n"
    }
   },
   "source": [
    "<br>\n",
    "<br>"
   ]
  },
  {
   "cell_type": "markdown",
   "metadata": {
    "pycharm": {
     "name": "#%% md\n"
    }
   },
   "source": [
    "## Implement ADALINE Model"
   ]
  },
  {
   "cell_type": "code",
   "execution_count": 24,
   "metadata": {
    "pycharm": {
     "name": "#%%\n"
    }
   },
   "outputs": [],
   "source": [
    "class Adaline1():\n",
    "    def __init__(self, num_features):\n",
    "        self.num_features = num_features\n",
    "        self.weights = torch.zeros(num_features, 1, \n",
    "                                   dtype=torch.float)\n",
    "        self.bias = torch.zeros(1, dtype=torch.float)\n",
    "\n",
    "    def forward(self, x):\n",
    "        netinputs = torch.add(torch.mm(x, self.weights), self.bias)\n",
    "        activations = netinputs\n",
    "        return activations.view(-1)\n",
    "        \n",
    "    def backward(self, x, yhat, y):  \n",
    "        \n",
    "        grad_loss_yhat = 2*(y - yhat)\n",
    "        \n",
    "        grad_yhat_weights = -x\n",
    "        grad_yhat_bias = -1.\n",
    "        \n",
    "        # Chain rule: inner times outer\n",
    "        grad_loss_weights =  torch.mm(grad_yhat_weights.t(),\n",
    "                                         grad_loss_yhat.view(-1, 1)) / y.size(0)\n",
    "\n",
    "        grad_loss_bias = torch.sum(grad_yhat_bias*grad_loss_yhat) / y.size(0)\n",
    "        \n",
    "        # return negative gradient\n",
    "        return (-1)*grad_loss_weights, (-1)*grad_loss_bias"
   ]
  },
  {
   "cell_type": "markdown",
   "metadata": {
    "pycharm": {
     "name": "#%% md\n"
    }
   },
   "source": [
    "<br>\n",
    "<br>"
   ]
  },
  {
   "cell_type": "markdown",
   "metadata": {
    "pycharm": {
     "name": "#%% md\n"
    }
   },
   "source": [
    "## Define Training and Evaluation Functions"
   ]
  },
  {
   "cell_type": "code",
   "execution_count": 25,
   "metadata": {
    "pycharm": {
     "name": "#%%\n"
    }
   },
   "outputs": [],
   "source": [
    "####################################################\n",
    "##### Training and evaluation wrappers\n",
    "###################################################\n",
    "\n",
    "def loss(yhat, y):\n",
    "    return torch.mean((yhat - y)**2)\n",
    "\n",
    "\n",
    "def train(model, x, y, num_epochs,\n",
    "          learning_rate=0.01, seed=123, minibatch_size=10):\n",
    "    cost = []\n",
    "    \n",
    "    torch.manual_seed(seed)\n",
    "    for e in range(num_epochs):\n",
    "        \n",
    "        #### Shuffle epoch\n",
    "        shuffle_idx = torch.randperm(y.size(0), dtype=torch.long)\n",
    "        minibatches = torch.split(shuffle_idx, minibatch_size)\n",
    "        \n",
    "        for minibatch_idx in minibatches:\n",
    "\n",
    "            #### Compute outputs ####\n",
    "            yhat = model.forward(x[minibatch_idx])\n",
    "\n",
    "            #### Compute gradients ####\n",
    "            negative_grad_w, negative_grad_b = \\\n",
    "                model.backward(x[minibatch_idx], yhat, y[minibatch_idx])\n",
    "\n",
    "            #### Update weights ####\n",
    "            model.weights += learning_rate * negative_grad_w\n",
    "            model.bias += learning_rate * negative_grad_b\n",
    "            \n",
    "            #### Logging ####\n",
    "            minibatch_loss = loss(yhat, y[minibatch_idx])\n",
    "            print('    Minibatch MSE: %.3f' % minibatch_loss)\n",
    "\n",
    "        #### Logging ####\n",
    "        yhat = model.forward(x)\n",
    "        curr_loss = loss(yhat, y)\n",
    "        print('Epoch: %03d' % (e+1), end=\"\")\n",
    "        print(' | MSE: %.5f' % curr_loss)\n",
    "        cost.append(curr_loss)\n",
    "\n",
    "    return cost"
   ]
  },
  {
   "cell_type": "markdown",
   "metadata": {
    "pycharm": {
     "name": "#%% md\n"
    }
   },
   "source": [
    "<br>\n",
    "<br>"
   ]
  },
  {
   "cell_type": "markdown",
   "metadata": {
    "pycharm": {
     "name": "#%% md\n"
    }
   },
   "source": [
    "## Train Model"
   ]
  },
  {
   "cell_type": "code",
   "execution_count": 27,
   "metadata": {
    "pycharm": {
     "name": "#%%\n"
    }
   },
   "outputs": [
    {
     "name": "stdout",
     "output_type": "stream",
     "text": [
      "    Minibatch MSE: 0.500\n",
      "    Minibatch MSE: 0.288\n",
      "    Minibatch MSE: 0.108\n",
      "    Minibatch MSE: 0.185\n",
      "    Minibatch MSE: 0.269\n",
      "    Minibatch MSE: 0.137\n",
      "    Minibatch MSE: 0.180\n",
      "    Minibatch MSE: 0.149\n",
      "Epoch: 001 | MSE: 0.10482\n",
      "    Minibatch MSE: 0.082\n",
      "    Minibatch MSE: 0.058\n",
      "    Minibatch MSE: 0.097\n",
      "    Minibatch MSE: 0.064\n",
      "    Minibatch MSE: 0.117\n",
      "    Minibatch MSE: 0.164\n",
      "    Minibatch MSE: 0.067\n",
      "    Minibatch MSE: 0.134\n",
      "Epoch: 002 | MSE: 0.09160\n",
      "    Minibatch MSE: 0.043\n",
      "    Minibatch MSE: 0.075\n",
      "    Minibatch MSE: 0.079\n",
      "    Minibatch MSE: 0.069\n",
      "    Minibatch MSE: 0.080\n",
      "    Minibatch MSE: 0.116\n",
      "    Minibatch MSE: 0.124\n",
      "    Minibatch MSE: 0.166\n",
      "Epoch: 003 | MSE: 0.09018\n",
      "    Minibatch MSE: 0.099\n",
      "    Minibatch MSE: 0.043\n",
      "    Minibatch MSE: 0.065\n",
      "    Minibatch MSE: 0.111\n",
      "    Minibatch MSE: 0.106\n",
      "    Minibatch MSE: 0.129\n",
      "    Minibatch MSE: 0.078\n",
      "    Minibatch MSE: 0.100\n",
      "Epoch: 004 | MSE: 0.08915\n",
      "    Minibatch MSE: 0.074\n",
      "    Minibatch MSE: 0.095\n",
      "    Minibatch MSE: 0.071\n",
      "    Minibatch MSE: 0.078\n",
      "    Minibatch MSE: 0.162\n",
      "    Minibatch MSE: 0.072\n",
      "    Minibatch MSE: 0.058\n",
      "    Minibatch MSE: 0.126\n",
      "Epoch: 005 | MSE: 0.08938\n",
      "    Minibatch MSE: 0.136\n",
      "    Minibatch MSE: 0.058\n",
      "    Minibatch MSE: 0.079\n",
      "    Minibatch MSE: 0.107\n",
      "    Minibatch MSE: 0.103\n",
      "    Minibatch MSE: 0.119\n",
      "    Minibatch MSE: 0.075\n",
      "    Minibatch MSE: 0.070\n",
      "Epoch: 006 | MSE: 0.09068\n",
      "    Minibatch MSE: 0.153\n",
      "    Minibatch MSE: 0.066\n",
      "    Minibatch MSE: 0.106\n",
      "    Minibatch MSE: 0.099\n",
      "    Minibatch MSE: 0.049\n",
      "    Minibatch MSE: 0.081\n",
      "    Minibatch MSE: 0.102\n",
      "    Minibatch MSE: 0.083\n",
      "Epoch: 007 | MSE: 0.08897\n",
      "    Minibatch MSE: 0.099\n",
      "    Minibatch MSE: 0.156\n",
      "    Minibatch MSE: 0.135\n",
      "    Minibatch MSE: 0.041\n",
      "    Minibatch MSE: 0.080\n",
      "    Minibatch MSE: 0.107\n",
      "    Minibatch MSE: 0.048\n",
      "    Minibatch MSE: 0.085\n",
      "Epoch: 008 | MSE: 0.08990\n",
      "    Minibatch MSE: 0.076\n",
      "    Minibatch MSE: 0.058\n",
      "    Minibatch MSE: 0.068\n",
      "    Minibatch MSE: 0.111\n",
      "    Minibatch MSE: 0.057\n",
      "    Minibatch MSE: 0.121\n",
      "    Minibatch MSE: 0.063\n",
      "    Minibatch MSE: 0.190\n",
      "Epoch: 009 | MSE: 0.08898\n",
      "    Minibatch MSE: 0.069\n",
      "    Minibatch MSE: 0.132\n",
      "    Minibatch MSE: 0.049\n",
      "    Minibatch MSE: 0.182\n",
      "    Minibatch MSE: 0.088\n",
      "    Minibatch MSE: 0.106\n",
      "    Minibatch MSE: 0.076\n",
      "    Minibatch MSE: 0.032\n",
      "Epoch: 010 | MSE: 0.09086\n",
      "    Minibatch MSE: 0.078\n",
      "    Minibatch MSE: 0.119\n",
      "    Minibatch MSE: 0.172\n",
      "    Minibatch MSE: 0.133\n",
      "    Minibatch MSE: 0.074\n",
      "    Minibatch MSE: 0.051\n",
      "    Minibatch MSE: 0.070\n",
      "    Minibatch MSE: 0.036\n",
      "Epoch: 011 | MSE: 0.08932\n",
      "    Minibatch MSE: 0.117\n",
      "    Minibatch MSE: 0.095\n",
      "    Minibatch MSE: 0.056\n",
      "    Minibatch MSE: 0.100\n",
      "    Minibatch MSE: 0.074\n",
      "    Minibatch MSE: 0.041\n",
      "    Minibatch MSE: 0.160\n",
      "    Minibatch MSE: 0.114\n",
      "Epoch: 012 | MSE: 0.08919\n",
      "    Minibatch MSE: 0.078\n",
      "    Minibatch MSE: 0.081\n",
      "    Minibatch MSE: 0.086\n",
      "    Minibatch MSE: 0.122\n",
      "    Minibatch MSE: 0.159\n",
      "    Minibatch MSE: 0.075\n",
      "    Minibatch MSE: 0.069\n",
      "    Minibatch MSE: 0.081\n",
      "Epoch: 013 | MSE: 0.08915\n",
      "    Minibatch MSE: 0.056\n",
      "    Minibatch MSE: 0.077\n",
      "    Minibatch MSE: 0.087\n",
      "    Minibatch MSE: 0.059\n",
      "    Minibatch MSE: 0.078\n",
      "    Minibatch MSE: 0.183\n",
      "    Minibatch MSE: 0.129\n",
      "    Minibatch MSE: 0.067\n",
      "Epoch: 014 | MSE: 0.08912\n",
      "    Minibatch MSE: 0.127\n",
      "    Minibatch MSE: 0.127\n",
      "    Minibatch MSE: 0.070\n",
      "    Minibatch MSE: 0.056\n",
      "    Minibatch MSE: 0.075\n",
      "    Minibatch MSE: 0.091\n",
      "    Minibatch MSE: 0.073\n",
      "    Minibatch MSE: 0.124\n",
      "Epoch: 015 | MSE: 0.08945\n",
      "    Minibatch MSE: 0.120\n",
      "    Minibatch MSE: 0.053\n",
      "    Minibatch MSE: 0.045\n",
      "    Minibatch MSE: 0.108\n",
      "    Minibatch MSE: 0.074\n",
      "    Minibatch MSE: 0.064\n",
      "    Minibatch MSE: 0.102\n",
      "    Minibatch MSE: 0.155\n",
      "Epoch: 016 | MSE: 0.09002\n",
      "    Minibatch MSE: 0.099\n",
      "    Minibatch MSE: 0.027\n",
      "    Minibatch MSE: 0.101\n",
      "    Minibatch MSE: 0.094\n",
      "    Minibatch MSE: 0.115\n",
      "    Minibatch MSE: 0.093\n",
      "    Minibatch MSE: 0.085\n",
      "    Minibatch MSE: 0.131\n",
      "Epoch: 017 | MSE: 0.08921\n",
      "    Minibatch MSE: 0.055\n",
      "    Minibatch MSE: 0.081\n",
      "    Minibatch MSE: 0.079\n",
      "    Minibatch MSE: 0.083\n",
      "    Minibatch MSE: 0.190\n",
      "    Minibatch MSE: 0.088\n",
      "    Minibatch MSE: 0.102\n",
      "    Minibatch MSE: 0.077\n",
      "Epoch: 018 | MSE: 0.08903\n",
      "    Minibatch MSE: 0.096\n",
      "    Minibatch MSE: 0.130\n",
      "    Minibatch MSE: 0.036\n",
      "    Minibatch MSE: 0.122\n",
      "    Minibatch MSE: 0.081\n",
      "    Minibatch MSE: 0.065\n",
      "    Minibatch MSE: 0.139\n",
      "    Minibatch MSE: 0.067\n",
      "Epoch: 019 | MSE: 0.08910\n",
      "    Minibatch MSE: 0.110\n",
      "    Minibatch MSE: 0.126\n",
      "    Minibatch MSE: 0.048\n",
      "    Minibatch MSE: 0.078\n",
      "    Minibatch MSE: 0.051\n",
      "    Minibatch MSE: 0.080\n",
      "    Minibatch MSE: 0.111\n",
      "    Minibatch MSE: 0.131\n",
      "Epoch: 020 | MSE: 0.08919\n"
     ]
    }
   ],
   "source": [
    "model = Adaline1(num_features=X_train.size(1))\n",
    "cost = train(model, \n",
    "             X_train, y_train.float(),\n",
    "             num_epochs=20,\n",
    "             learning_rate=0.1,\n",
    "             seed=123,\n",
    "             minibatch_size=10)"
   ]
  },
  {
   "cell_type": "markdown",
   "metadata": {
    "pycharm": {
     "name": "#%% md\n"
    }
   },
   "source": [
    "<br>\n",
    "<br>"
   ]
  },
  {
   "cell_type": "markdown",
   "metadata": {
    "pycharm": {
     "name": "#%% md\n"
    }
   },
   "source": [
    "## Evaluate ADALINE Model"
   ]
  },
  {
   "cell_type": "markdown",
   "metadata": {
    "pycharm": {
     "name": "#%% md\n"
    }
   },
   "source": [
    "### Plot Loss (MSE)"
   ]
  },
  {
   "cell_type": "code",
   "execution_count": 28,
   "metadata": {
    "pycharm": {
     "name": "#%%\n"
    }
   },
   "outputs": [
    {
     "data": {
      "text/plain": "<Figure size 432x288 with 1 Axes>",
      "image/png": "[encoded data removed]"
     },
     "metadata": {
      "needs_background": "light"
     },
     "output_type": "display_data"
    }
   ],
   "source": [
    "plt.plot(range(len(cost)), cost)\n",
    "plt.ylabel('Mean Squared Error')\n",
    "plt.xlabel('Epoch')\n",
    "plt.show()"
   ]
  },
  {
   "cell_type": "markdown",
   "metadata": {
    "pycharm": {
     "name": "#%% md\n"
    }
   },
   "source": [
    "<br>\n",
    "<br>"
   ]
  },
  {
   "cell_type": "markdown",
   "metadata": {
    "pycharm": {
     "name": "#%% md\n"
    }
   },
   "source": [
    "### Compare with analytical solution"
   ]
  },
  {
   "cell_type": "code",
   "execution_count": 29,
   "metadata": {
    "pycharm": {
     "name": "#%%\n"
    }
   },
   "outputs": [
    {
     "name": "stdout",
     "output_type": "stream",
     "text": [
      "Weights tensor([[-0.0826],\n",
      "        [ 0.4263]])\n",
      "Bias tensor([0.4831])\n"
     ]
    }
   ],
   "source": [
    "print('Weights', model.weights)\n",
    "print('Bias', model.bias)"
   ]
  },
  {
   "cell_type": "code",
   "execution_count": 30,
   "metadata": {
    "pycharm": {
     "name": "#%%\n"
    }
   },
   "outputs": [
    {
     "name": "stdout",
     "output_type": "stream",
     "text": [
      "Analytical weights tensor([[-0.0692],\n",
      "        [ 0.4348]])\n",
      "Analytical bias tensor([0.4875])\n"
     ]
    }
   ],
   "source": [
    "def analytical_solution(x, y):\n",
    "    Xb = torch.cat( (torch.ones((x.size(0), 1)), x), dim=1)\n",
    "    w = torch.zeros(x.size(1))\n",
    "    z = torch.inverse(torch.matmul(Xb.t(), Xb))\n",
    "    params = torch.matmul(z, torch.matmul(Xb.t(), y))\n",
    "    b, w = torch.tensor([params[0]]), params[1:].view(x.size(1), 1)\n",
    "    return w, b\n",
    "\n",
    "w, b = analytical_solution(X_train, y_train.float())\n",
    "print('Analytical weights', w)\n",
    "print('Analytical bias', b)"
   ]
  },
  {
   "cell_type": "markdown",
   "metadata": {
    "pycharm": {
     "name": "#%% md\n"
    }
   },
   "source": [
    "<br>\n",
    "<br>"
   ]
  },
  {
   "cell_type": "markdown",
   "metadata": {
    "pycharm": {
     "name": "#%% md\n"
    }
   },
   "source": [
    "## Evaluate on Evaluation Metric (Prediction Accuracy)"
   ]
  },
  {
   "cell_type": "code",
   "execution_count": 31,
   "metadata": {
    "pycharm": {
     "name": "#%%\n"
    }
   },
   "outputs": [
    {
     "name": "stdout",
     "output_type": "stream",
     "text": [
      "Training Accuracy: 91.25\n",
      "Test Accuracy: 95.00\n"
     ]
    }
   ],
   "source": [
    "ones = torch.ones(y_train.size())\n",
    "zeros = torch.zeros(y_train.size())\n",
    "train_pred = model.forward(X_train)\n",
    "train_acc = torch.mean(\n",
    "    (torch.where(train_pred > 0.5, \n",
    "                 ones, \n",
    "                 zeros).int() == y_train).float())\n",
    "\n",
    "ones = torch.ones(y_test.size())\n",
    "zeros = torch.zeros(y_test.size())\n",
    "test_pred = model.forward(X_test)\n",
    "test_acc = torch.mean(\n",
    "    (torch.where(test_pred > 0.5, \n",
    "                 ones, \n",
    "                 zeros).int() == y_test).float())\n",
    "\n",
    "print('Training Accuracy: %.2f' % (train_acc*100))\n",
    "print('Test Accuracy: %.2f' % (test_acc*100))"
   ]
  },
  {
   "cell_type": "markdown",
   "metadata": {
    "pycharm": {
     "name": "#%% md\n"
    }
   },
   "source": [
    "<br>\n",
    "<br>"
   ]
  },
  {
   "cell_type": "markdown",
   "metadata": {
    "pycharm": {
     "name": "#%% md\n"
    }
   },
   "source": [
    "## Decision Boundary"
   ]
  },
  {
   "cell_type": "code",
   "execution_count": 32,
   "outputs": [
    {
     "name": "stderr",
     "output_type": "stream",
     "text": [
      "C:\\PythonEnvs\\venv\\lib\\site-packages\\numpy\\core\\shape_base.py:65: FutureWarning: The input object of type 'Tensor' is an array-like implementing one of the corresponding protocols (`__array__`, `__array_interface__` or `__array_struct__`); but not a sequence (or 0-D). In the future, this object will be coerced as if it was first converted using `np.array(obj)`. To retain the old behaviour, you have to either modify the type 'Tensor', or assign to an empty array created with `np.empty(correct_shape, dtype=object)`.\n",
      "  ary = asanyarray(ary)\n",
      "C:\\PythonEnvs\\venv\\lib\\site-packages\\numpy\\core\\shape_base.py:65: VisibleDeprecationWarning: Creating an ndarray from ragged nested sequences (which is a list-or-tuple of lists-or-tuples-or ndarrays with different lengths or shapes) is deprecated. If you meant to do this, you must specify 'dtype=object' when creating the ndarray.\n",
      "  ary = asanyarray(ary)\n"
     ]
    },
    {
     "data": {
      "text/plain": "<Figure size 504x216 with 2 Axes>",
      "image/png": "[encoded data removed]"
     },
     "metadata": {
      "needs_background": "light"
     },
     "output_type": "display_data"
    }
   ],
   "source": [
    "##########################\n",
    "### 2D Decision Boundary\n",
    "##########################\n",
    "\n",
    "w, b = model.weights, model.bias - 0.5\n",
    "\n",
    "x_min = -3\n",
    "y_min = ( (-(w[0] * x_min) - b[0]) \n",
    "          / w[1] )\n",
    "\n",
    "x_max = 3\n",
    "y_max = ( (-(w[0] * x_max) - b[0]) \n",
    "          / w[1] )\n",
    "\n",
    "\n",
    "fig, ax = plt.subplots(1, 2, sharex=True, figsize=(7, 3))\n",
    "\n",
    "ax[0].plot([x_min, x_max], [y_min, y_max])\n",
    "ax[1].plot([x_min, x_max], [y_min, y_max])\n",
    "\n",
    "ax[0].scatter(X_train[y_train==0, 0], X_train[y_train==0, 1], label='class 0', marker='o')\n",
    "ax[0].scatter(X_train[y_train==1, 0], X_train[y_train==1, 1], label='class 1', marker='s')\n",
    "\n",
    "ax[1].scatter(X_test[y_test==0, 0], X_test[y_test==0, 1], label='class 0', marker='o')\n",
    "ax[1].scatter(X_test[y_test==1, 0], X_test[y_test==1, 1], label='class 1', marker='s')\n",
    "\n",
    "ax[1].legend(loc='upper left')\n",
    "plt.show()"
   ],
   "metadata": {
    "collapsed": false,
    "pycharm": {
     "name": "#%%\n"
    }
   }
  },
  {
   "cell_type": "code",
   "execution_count": null,
   "outputs": [],
   "source": [],
   "metadata": {
    "collapsed": false,
    "pycharm": {
     "name": "#%%\n"
    }
   }
  }
 ],
 "metadata": {
  "kernelspec": {
   "display_name": "Python 3",
   "language": "python",
   "name": "python3"
  },
  "language_info": {
   "codemirror_mode": {
    "name": "ipython",
    "version": 3
   },
   "file_extension": ".py",
   "mimetype": "text/x-python",
   "name": "python",
   "nbconvert_exporter": "python",
   "pygments_lexer": "ipython3",
   "version": "3.7.5"
  }
 },
 "nbformat": 4,
 "nbformat_minor": 4
}