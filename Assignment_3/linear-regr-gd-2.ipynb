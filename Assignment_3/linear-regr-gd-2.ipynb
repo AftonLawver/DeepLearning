{
 "cells": [
  {
   "cell_type": "markdown",
   "metadata": {
    "pycharm": {
     "name": "#%% md\n"
    }
   },
   "source": [
    "STAT 453: Deep Learning (Spring 2020)  \n",
    "Instructor: Sebastian Raschka (sraschka@wisc.edu)  \n",
    "\n",
    "Course website: http://pages.stat.wisc.edu/~sraschka/teaching/stat453-ss2020/  \n",
    "GitHub repository: https://github.com/rasbt/stat453-deep-learning-ss20"
   ]
  },
  {
   "cell_type": "markdown",
   "metadata": {
    "pycharm": {
     "name": "#%% md\n"
    }
   },
   "source": [
    "# Linear Regression with Gradient Descent"
   ]
  },
  {
   "cell_type": "markdown",
   "metadata": {
    "pycharm": {
     "name": "#%% md\n"
    }
   },
   "source": [
    "![](figures/adaline-concept.png)"
   ]
  },
  {
   "cell_type": "markdown",
   "metadata": {
    "pycharm": {
     "name": "#%% md\n"
    }
   },
   "source": [
    "Note that linear regression and Adaline are very similar. The only difference is that we apply a threshold function for converting the outputs from continuous targets for predictions. The derivative and training procedure are identical to Adaline though. You can compare the two notebooks (this one and `adaline-sgd.ipynb`) side by side as shown below to see the relationship:\n",
    "\n",
    "![](figures/adaline-vs-linreg.png)"
   ]
  },
  {
   "cell_type": "code",
   "execution_count": 291,
   "metadata": {
    "pycharm": {
     "name": "#%%\n"
    }
   },
   "outputs": [],
   "source": [
    "import pandas as pd\n",
    "import matplotlib.pyplot as plt\n",
    "import torch\n",
    "%matplotlib inline"
   ]
  },
  {
   "cell_type": "markdown",
   "metadata": {
    "pycharm": {
     "name": "#%% md\n"
    }
   },
   "source": []
  },
  {
   "cell_type": "markdown",
   "metadata": {
    "pycharm": {
     "name": "#%% md\n"
    }
   },
   "source": [
    "## Load & Prepare a Toy Dataset"
   ]
  },
  {
   "cell_type": "code",
   "execution_count": 302,
   "metadata": {
    "pycharm": {
     "name": "#%%\n"
    }
   },
   "outputs": [
    {
     "name": "stdout",
     "output_type": "stream",
     "text": [
      "X1    float64\n",
      "X2    float64\n",
      "X3    float64\n",
      "X4    float64\n",
      "X5    float64\n",
      "X6      int64\n",
      "X7    float64\n",
      "X8      int64\n",
      "Y1    float64\n",
      "Y2    float64\n",
      "dtype: object\n"
     ]
    }
   ],
   "source": [
    "df = pd.read_csv('ENB2012_data.csv', index_col=False)\n",
    "df.tail()\n",
    "print(df.dtypes)"
   ]
  },
  {
   "cell_type": "code",
   "execution_count": 303,
   "metadata": {
    "pycharm": {
     "name": "#%%\n"
    }
   },
   "outputs": [],
   "source": [
    "# Assign features and target\n",
    "\n",
    "X = torch.tensor(df[['X1', 'X2', 'X3', 'X4', 'X5', 'X6', 'X7', 'X8']].values, dtype=torch.float)\n",
    "y = torch.tensor(df['Y2'].values, dtype=torch.float)\n",
    "\n",
    "# Shuffling & train/test split\n",
    "\n",
    "torch.manual_seed(123)\n",
    "shuffle_idx = torch.randperm(y.size(0), dtype=torch.long)\n",
    "\n",
    "X, y = X[shuffle_idx], y[shuffle_idx]\n",
    "\n",
    "percent80 = int(shuffle_idx.size(0)*0.8)\n",
    "\n",
    "X_train, X_test = X[shuffle_idx[:percent80]], X[shuffle_idx[percent80:]]\n",
    "y_train, y_test = y[shuffle_idx[:percent80]], y[shuffle_idx[percent80:]]\n",
    "\n",
    "# Normalize (mean zero, unit variance), standardization.\n",
    "\n",
    "mu, sigma = X_train.mean(dim=0), X_train.std(dim=0)\n",
    "X_train = (X_train - mu) / sigma\n",
    "X_test = (X_test - mu) / sigma"
   ]
  },
  {
   "cell_type": "markdown",
   "metadata": {
    "pycharm": {
     "name": "#%% md\n"
    }
   },
   "source": []
  },
  {
   "cell_type": "markdown",
   "metadata": {
    "pycharm": {
     "name": "#%% md\n"
    }
   },
   "source": [
    "## Implement Linear Regression Model"
   ]
  },
  {
   "cell_type": "code",
   "execution_count": 304,
   "metadata": {
    "pycharm": {
     "name": "#%%\n"
    }
   },
   "outputs": [],
   "source": [
    "class LinearRegression1():\n",
    "    def __init__(self, num_features):\n",
    "        self.num_features = num_features\n",
    "        self.weights = torch.zeros(num_features, 1, \n",
    "                                   dtype=torch.float)\n",
    "        self.bias = torch.zeros(1, dtype=torch.float)\n",
    "\n",
    "    def forward(self, x):\n",
    "        netinputs = torch.add(torch.mm(x, self.weights), self.bias)\n",
    "        activations = netinputs\n",
    "        return activations.view(-1)\n",
    "        \n",
    "    def backward(self, x, yhat, y):\n",
    "\n",
    "        # (yhat - y)^2  --> this is our loss function\n",
    "        # deriv: 2*(y - yhat)\n",
    "        \n",
    "        grad_loss_yhat = 2*(y - yhat)\n",
    "        \n",
    "        grad_yhat_weights = -x\n",
    "        grad_yhat_bias = -1.\n",
    "        \n",
    "        # Chain rule: inner times outer\n",
    "        grad_loss_weights =  torch.mm(grad_yhat_weights.t(),\n",
    "                                         grad_loss_yhat.view(-1, 1)) / y.size(0)\n",
    "\n",
    "        grad_loss_bias = torch.sum(grad_yhat_bias*grad_loss_yhat) / y.size(0)\n",
    "        \n",
    "        # return negative gradient\n",
    "        return (-1)*grad_loss_weights, (-1)*grad_loss_bias"
   ]
  },
  {
   "cell_type": "markdown",
   "metadata": {
    "pycharm": {
     "name": "#%% md\n"
    }
   },
   "source": []
  },
  {
   "cell_type": "markdown",
   "metadata": {
    "pycharm": {
     "name": "#%% md\n"
    }
   },
   "source": [
    "## Define Training and Evaluation Functions"
   ]
  },
  {
   "cell_type": "code",
   "execution_count": 305,
   "metadata": {
    "pycharm": {
     "name": "#%%\n"
    }
   },
   "outputs": [],
   "source": [
    "####################################################\n",
    "##### Training and evaluation wrappers\n",
    "###################################################\n",
    "\n",
    "def loss(yhat, y): # mean squared error\n",
    "    return torch.mean((yhat - y)**2)\n",
    "\n",
    "# Batch Gradient Descent\n",
    "def train(model, x, y, num_epochs, learning_rate=0.01):\n",
    "    cost = []\n",
    "    for e in range(num_epochs):\n",
    "\n",
    "        #### Compute outputs ####\n",
    "        yhat = model.forward(x)\n",
    "\n",
    "        #### Compute gradients ####\n",
    "        negative_grad_w, negative_grad_b = model.backward(x, yhat, y)\n",
    "\n",
    "        #### Update weights and bias ####\n",
    "        model.weights += learning_rate * negative_grad_w\n",
    "        model.bias += learning_rate * negative_grad_b\n",
    "\n",
    "        #### Logging ####\n",
    "        yhat = model.forward(x) # note that this is a bit wasteful here\n",
    "        curr_loss = loss(yhat, y)\n",
    "        print('Epoch: %03d' % (e+1), end=\"\")\n",
    "        print(' | MSE: %.5f' % curr_loss)\n",
    "        cost.append(curr_loss)\n",
    "\n",
    "    return cost"
   ]
  },
  {
   "cell_type": "markdown",
   "metadata": {
    "pycharm": {
     "name": "#%% md\n"
    }
   },
   "source": []
  },
  {
   "cell_type": "markdown",
   "metadata": {
    "pycharm": {
     "name": "#%% md\n"
    }
   },
   "source": [
    "## Train Linear Regression Model"
   ]
  },
  {
   "cell_type": "code",
   "execution_count": 306,
   "metadata": {
    "pycharm": {
     "name": "#%%\n"
    }
   },
   "outputs": [
    {
     "name": "stdout",
     "output_type": "stream",
     "text": [
      "Epoch: 001 | MSE: 536.39227\n",
      "Epoch: 002 | MSE: 427.21774\n",
      "Epoch: 003 | MSE: 344.45737\n",
      "Epoch: 004 | MSE: 279.70889\n",
      "Epoch: 005 | MSE: 228.19989\n",
      "Epoch: 006 | MSE: 186.87184\n",
      "Epoch: 007 | MSE: 153.56898\n",
      "Epoch: 008 | MSE: 126.67381\n",
      "Epoch: 009 | MSE: 104.92837\n",
      "Epoch: 010 | MSE: 87.33533\n",
      "Epoch: 011 | MSE: 73.09612\n",
      "Epoch: 012 | MSE: 61.56806\n",
      "Epoch: 013 | MSE: 52.23269\n",
      "Epoch: 014 | MSE: 44.67114\n",
      "Epoch: 015 | MSE: 38.54483\n",
      "Epoch: 016 | MSE: 33.57999\n",
      "Epoch: 017 | MSE: 29.55510\n",
      "Epoch: 018 | MSE: 26.29100\n",
      "Epoch: 019 | MSE: 23.64273\n",
      "Epoch: 020 | MSE: 21.49301\n",
      "Epoch: 021 | MSE: 19.74689\n",
      "Epoch: 022 | MSE: 18.32757\n",
      "Epoch: 023 | MSE: 17.17287\n",
      "Epoch: 024 | MSE: 16.23246\n",
      "Epoch: 025 | MSE: 15.46561\n",
      "Epoch: 026 | MSE: 14.83934\n",
      "Epoch: 027 | MSE: 14.32697\n",
      "Epoch: 028 | MSE: 13.90689\n",
      "Epoch: 029 | MSE: 13.56159\n",
      "Epoch: 030 | MSE: 13.27690\n",
      "Epoch: 031 | MSE: 13.04135\n",
      "Epoch: 032 | MSE: 12.84566\n",
      "Epoch: 033 | MSE: 12.68230\n",
      "Epoch: 034 | MSE: 12.54518\n",
      "Epoch: 035 | MSE: 12.42936\n",
      "Epoch: 036 | MSE: 12.33084\n",
      "Epoch: 037 | MSE: 12.24640\n",
      "Epoch: 038 | MSE: 12.17340\n",
      "Epoch: 039 | MSE: 12.10973\n",
      "Epoch: 040 | MSE: 12.05365\n",
      "Epoch: 041 | MSE: 12.00378\n",
      "Epoch: 042 | MSE: 11.95899\n",
      "Epoch: 043 | MSE: 11.91835\n",
      "Epoch: 044 | MSE: 11.88113\n",
      "Epoch: 045 | MSE: 11.84672\n",
      "Epoch: 046 | MSE: 11.81463\n",
      "Epoch: 047 | MSE: 11.78447\n",
      "Epoch: 048 | MSE: 11.75592\n",
      "Epoch: 049 | MSE: 11.72872\n",
      "Epoch: 050 | MSE: 11.70264\n",
      "Epoch: 051 | MSE: 11.67754\n",
      "Epoch: 052 | MSE: 11.65325\n",
      "Epoch: 053 | MSE: 11.62967\n",
      "Epoch: 054 | MSE: 11.60670\n",
      "Epoch: 055 | MSE: 11.58427\n",
      "Epoch: 056 | MSE: 11.56232\n",
      "Epoch: 057 | MSE: 11.54080\n",
      "Epoch: 058 | MSE: 11.51967\n",
      "Epoch: 059 | MSE: 11.49888\n",
      "Epoch: 060 | MSE: 11.47842\n",
      "Epoch: 061 | MSE: 11.45826\n",
      "Epoch: 062 | MSE: 11.43838\n",
      "Epoch: 063 | MSE: 11.41877\n",
      "Epoch: 064 | MSE: 11.39941\n",
      "Epoch: 065 | MSE: 11.38029\n",
      "Epoch: 066 | MSE: 11.36141\n",
      "Epoch: 067 | MSE: 11.34274\n",
      "Epoch: 068 | MSE: 11.32430\n",
      "Epoch: 069 | MSE: 11.30607\n",
      "Epoch: 070 | MSE: 11.28804\n",
      "Epoch: 071 | MSE: 11.27021\n",
      "Epoch: 072 | MSE: 11.25258\n",
      "Epoch: 073 | MSE: 11.23514\n",
      "Epoch: 074 | MSE: 11.21790\n",
      "Epoch: 075 | MSE: 11.20084\n",
      "Epoch: 076 | MSE: 11.18396\n",
      "Epoch: 077 | MSE: 11.16727\n",
      "Epoch: 078 | MSE: 11.15075\n",
      "Epoch: 079 | MSE: 11.13441\n",
      "Epoch: 080 | MSE: 11.11825\n",
      "Epoch: 081 | MSE: 11.10226\n",
      "Epoch: 082 | MSE: 11.08644\n",
      "Epoch: 083 | MSE: 11.07078\n",
      "Epoch: 084 | MSE: 11.05530\n",
      "Epoch: 085 | MSE: 11.03997\n",
      "Epoch: 086 | MSE: 11.02481\n",
      "Epoch: 087 | MSE: 11.00981\n",
      "Epoch: 088 | MSE: 10.99497\n",
      "Epoch: 089 | MSE: 10.98029\n",
      "Epoch: 090 | MSE: 10.96576\n",
      "Epoch: 091 | MSE: 10.95138\n",
      "Epoch: 092 | MSE: 10.93716\n",
      "Epoch: 093 | MSE: 10.92308\n",
      "Epoch: 094 | MSE: 10.90916\n",
      "Epoch: 095 | MSE: 10.89538\n",
      "Epoch: 096 | MSE: 10.88175\n",
      "Epoch: 097 | MSE: 10.86826\n",
      "Epoch: 098 | MSE: 10.85492\n",
      "Epoch: 099 | MSE: 10.84171\n",
      "Epoch: 100 | MSE: 10.82864\n",
      "Epoch: 101 | MSE: 10.81571\n",
      "Epoch: 102 | MSE: 10.80292\n",
      "Epoch: 103 | MSE: 10.79027\n",
      "Epoch: 104 | MSE: 10.77774\n",
      "Epoch: 105 | MSE: 10.76535\n",
      "Epoch: 106 | MSE: 10.75309\n",
      "Epoch: 107 | MSE: 10.74096\n",
      "Epoch: 108 | MSE: 10.72895\n",
      "Epoch: 109 | MSE: 10.71708\n",
      "Epoch: 110 | MSE: 10.70532\n",
      "Epoch: 111 | MSE: 10.69369\n",
      "Epoch: 112 | MSE: 10.68219\n",
      "Epoch: 113 | MSE: 10.67080\n",
      "Epoch: 114 | MSE: 10.65954\n",
      "Epoch: 115 | MSE: 10.64839\n",
      "Epoch: 116 | MSE: 10.63736\n",
      "Epoch: 117 | MSE: 10.62644\n",
      "Epoch: 118 | MSE: 10.61565\n",
      "Epoch: 119 | MSE: 10.60496\n",
      "Epoch: 120 | MSE: 10.59439\n",
      "Epoch: 121 | MSE: 10.58392\n",
      "Epoch: 122 | MSE: 10.57357\n",
      "Epoch: 123 | MSE: 10.56333\n",
      "Epoch: 124 | MSE: 10.55319\n",
      "Epoch: 125 | MSE: 10.54316\n",
      "Epoch: 126 | MSE: 10.53324\n",
      "Epoch: 127 | MSE: 10.52342\n",
      "Epoch: 128 | MSE: 10.51370\n",
      "Epoch: 129 | MSE: 10.50409\n",
      "Epoch: 130 | MSE: 10.49457\n",
      "Epoch: 131 | MSE: 10.48516\n",
      "Epoch: 132 | MSE: 10.47584\n",
      "Epoch: 133 | MSE: 10.46662\n",
      "Epoch: 134 | MSE: 10.45750\n",
      "Epoch: 135 | MSE: 10.44848\n",
      "Epoch: 136 | MSE: 10.43954\n",
      "Epoch: 137 | MSE: 10.43071\n",
      "Epoch: 138 | MSE: 10.42196\n",
      "Epoch: 139 | MSE: 10.41331\n",
      "Epoch: 140 | MSE: 10.40474\n",
      "Epoch: 141 | MSE: 10.39627\n",
      "Epoch: 142 | MSE: 10.38789\n",
      "Epoch: 143 | MSE: 10.37959\n",
      "Epoch: 144 | MSE: 10.37138\n",
      "Epoch: 145 | MSE: 10.36326\n",
      "Epoch: 146 | MSE: 10.35522\n",
      "Epoch: 147 | MSE: 10.34726\n",
      "Epoch: 148 | MSE: 10.33939\n",
      "Epoch: 149 | MSE: 10.33160\n",
      "Epoch: 150 | MSE: 10.32389\n",
      "Epoch: 151 | MSE: 10.31626\n",
      "Epoch: 152 | MSE: 10.30871\n",
      "Epoch: 153 | MSE: 10.30124\n",
      "Epoch: 154 | MSE: 10.29385\n",
      "Epoch: 155 | MSE: 10.28654\n",
      "Epoch: 156 | MSE: 10.27930\n",
      "Epoch: 157 | MSE: 10.27214\n",
      "Epoch: 158 | MSE: 10.26505\n",
      "Epoch: 159 | MSE: 10.25803\n",
      "Epoch: 160 | MSE: 10.25109\n",
      "Epoch: 161 | MSE: 10.24422\n",
      "Epoch: 162 | MSE: 10.23742\n",
      "Epoch: 163 | MSE: 10.23070\n",
      "Epoch: 164 | MSE: 10.22404\n",
      "Epoch: 165 | MSE: 10.21745\n",
      "Epoch: 166 | MSE: 10.21094\n",
      "Epoch: 167 | MSE: 10.20448\n",
      "Epoch: 168 | MSE: 10.19810\n",
      "Epoch: 169 | MSE: 10.19178\n",
      "Epoch: 170 | MSE: 10.18553\n",
      "Epoch: 171 | MSE: 10.17934\n",
      "Epoch: 172 | MSE: 10.17322\n",
      "Epoch: 173 | MSE: 10.16716\n",
      "Epoch: 174 | MSE: 10.16116\n",
      "Epoch: 175 | MSE: 10.15523\n",
      "Epoch: 176 | MSE: 10.14936\n",
      "Epoch: 177 | MSE: 10.14354\n",
      "Epoch: 178 | MSE: 10.13779\n",
      "Epoch: 179 | MSE: 10.13210\n",
      "Epoch: 180 | MSE: 10.12647\n",
      "Epoch: 181 | MSE: 10.12089\n",
      "Epoch: 182 | MSE: 10.11538\n",
      "Epoch: 183 | MSE: 10.10991\n",
      "Epoch: 184 | MSE: 10.10451\n",
      "Epoch: 185 | MSE: 10.09916\n",
      "Epoch: 186 | MSE: 10.09387\n",
      "Epoch: 187 | MSE: 10.08863\n",
      "Epoch: 188 | MSE: 10.08345\n",
      "Epoch: 189 | MSE: 10.07832\n",
      "Epoch: 190 | MSE: 10.07324\n",
      "Epoch: 191 | MSE: 10.06822\n",
      "Epoch: 192 | MSE: 10.06324\n",
      "Epoch: 193 | MSE: 10.05832\n",
      "Epoch: 194 | MSE: 10.05345\n",
      "Epoch: 195 | MSE: 10.04863\n",
      "Epoch: 196 | MSE: 10.04386\n",
      "Epoch: 197 | MSE: 10.03914\n",
      "Epoch: 198 | MSE: 10.03446\n",
      "Epoch: 199 | MSE: 10.02984\n",
      "Epoch: 200 | MSE: 10.02526\n"
     ]
    }
   ],
   "source": [
    "model = LinearRegression1(num_features=X_train.size(1))\n",
    "cost = train(model, \n",
    "             X_train, y_train, \n",
    "             num_epochs=200,\n",
    "             learning_rate=0.05)"
   ]
  },
  {
   "cell_type": "markdown",
   "metadata": {
    "pycharm": {
     "name": "#%% md\n"
    }
   },
   "source": []
  },
  {
   "cell_type": "markdown",
   "metadata": {
    "pycharm": {
     "name": "#%% md\n"
    }
   },
   "source": [
    "## Evaluate Linear Regression Model"
   ]
  },
  {
   "cell_type": "markdown",
   "metadata": {
    "pycharm": {
     "name": "#%% md\n"
    }
   },
   "source": [
    "### Plot MSE"
   ]
  },
  {
   "cell_type": "code",
   "execution_count": 307,
   "metadata": {
    "pycharm": {
     "name": "#%%\n"
    }
   },
   "outputs": [
    {
     "data": {
      "text/plain": "<Figure size 432x288 with 1 Axes>",
      "image/png": "[encoded data removed]"
     },
     "metadata": {
      "needs_background": "light"
     },
     "output_type": "display_data"
    }
   ],
   "source": [
    "plt.plot(range(len(cost)), cost)\n",
    "plt.ylabel('Mean Squared Error')\n",
    "plt.xlabel('Epoch')\n",
    "plt.show()"
   ]
  },
  {
   "cell_type": "code",
   "execution_count": 298,
   "metadata": {
    "pycharm": {
     "name": "#%%\n"
    }
   },
   "outputs": [
    {
     "name": "stdout",
     "output_type": "stream",
     "text": [
      "Train MSE: 10.02526\n",
      "Test MSE: 14.37849\n"
     ]
    }
   ],
   "source": [
    "train_pred = model.forward(X_train)\n",
    "test_pred = model.forward(X_test)\n",
    "\n",
    "print('Train MSE: %.5f' % loss(train_pred, y_train))\n",
    "print('Test MSE: %.5f' % loss(test_pred, y_test))"
   ]
  },
  {
   "cell_type": "markdown",
   "metadata": {
    "pycharm": {
     "name": "#%% md\n"
    }
   },
   "source": []
  },
  {
   "cell_type": "markdown",
   "metadata": {
    "pycharm": {
     "name": "#%% md\n"
    }
   },
   "source": [
    "### Compare with analytical solution"
   ]
  },
  {
   "cell_type": "code",
   "execution_count": 299,
   "metadata": {
    "pycharm": {
     "name": "#%%\n"
    }
   },
   "outputs": [
    {
     "name": "stdout",
     "output_type": "stream",
     "text": [
      "Weights tensor([[-1.9090],\n",
      "        [-1.1661],\n",
      "        [ 1.4941],\n",
      "        [-1.8580],\n",
      "        [ 6.6503],\n",
      "        [ 0.1809],\n",
      "        [ 2.0131],\n",
      "        [ 0.0248]])\n",
      "Bias tensor([24.5209])\n"
     ]
    }
   ],
   "source": [
    "print('Weights', model.weights)\n",
    "print('Bias', model.bias)"
   ]
  },
  {
   "cell_type": "code",
   "execution_count": 300,
   "metadata": {
    "pycharm": {
     "name": "#%%\n"
    }
   },
   "outputs": [
    {
     "name": "stdout",
     "output_type": "stream",
     "text": [
      "Analytical weights tensor([[-8.3062e+00],\n",
      "        [-1.1436e+01],\n",
      "        [ 3.2026e+00],\n",
      "        [ 2.1229e+00],\n",
      "        [ 6.6581e+00],\n",
      "        [ 1.9686e-01],\n",
      "        [ 2.0146e+00],\n",
      "        [ 8.6998e-03]])\n",
      "Analytical bias tensor([24.5209])\n"
     ]
    }
   ],
   "source": [
    "def analytical_solution(x, y):\n",
    "    Xb = torch.cat( (torch.ones((x.size(0), 1)), x), dim=1)\n",
    "    w = torch.zeros(x.size(1))\n",
    "    z = torch.inverse(torch.matmul(Xb.t(), Xb))\n",
    "    params = torch.matmul(z, torch.matmul(Xb.t(), y))\n",
    "    b, w = torch.tensor([params[0]]), params[1:].view(x.size(1), 1)\n",
    "    return w, b\n",
    "\n",
    "w, b = analytical_solution(X_train, y_train)\n",
    "print('Analytical weights', w)\n",
    "print('Analytical bias', b)"
   ]
  },
  {
   "cell_type": "markdown",
   "metadata": {
    "pycharm": {
     "name": "#%% md\n"
    }
   },
   "source": []
  },
  {
   "cell_type": "markdown",
   "metadata": {
    "pycharm": {
     "name": "#%% md\n"
    }
   },
   "source": [
    "## (Ungraded) HW Exercises"
   ]
  },
  {
   "cell_type": "markdown",
   "metadata": {
    "pycharm": {
     "name": "#%% md\n"
    }
   },
   "source": [
    "Modify the `train()` function such that the dataset is shuffled prior to each epoch. Do you see a difference -- Yes/No? Try to come up with an explanation for your observation.\n",
    "\n"
   ]
  }
 ],
 "metadata": {
  "kernelspec": {
   "display_name": "Python 3",
   "language": "python",
   "name": "python3"
  },
  "language_info": {
   "codemirror_mode": {
    "name": "ipython",
    "version": 3
   },
   "file_extension": ".py",
   "mimetype": "text/x-python",
   "name": "python",
   "nbconvert_exporter": "python",
   "pygments_lexer": "ipython3",
   "version": "3.7.5"
  }
 },
 "nbformat": 4,
 "nbformat_minor": 4
}